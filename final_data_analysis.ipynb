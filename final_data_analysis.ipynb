{
 "cells": [
  {
   "cell_type": "code",
   "execution_count": 1,
   "metadata": {},
   "outputs": [],
   "source": [
    "import pandas as pd\n",
    "import matplotlib.pyplot as plt\n",
    "import plotly"
   ]
  },
  {
   "cell_type": "code",
   "execution_count": 2,
   "metadata": {},
   "outputs": [
    {
     "data": {
      "text/html": [
       "<div>\n",
       "<style scoped>\n",
       "    .dataframe tbody tr th:only-of-type {\n",
       "        vertical-align: middle;\n",
       "    }\n",
       "\n",
       "    .dataframe tbody tr th {\n",
       "        vertical-align: top;\n",
       "    }\n",
       "\n",
       "    .dataframe thead th {\n",
       "        text-align: right;\n",
       "    }\n",
       "</style>\n",
       "<table border=\"1\" class=\"dataframe\">\n",
       "  <thead>\n",
       "    <tr style=\"text-align: right;\">\n",
       "      <th></th>\n",
       "      <th>location</th>\n",
       "      <th>totalConfirmedCases</th>\n",
       "      <th>newlyConfirmedCases</th>\n",
       "      <th>totalDeaths</th>\n",
       "      <th>newDeaths</th>\n",
       "      <th>totalRecoveredCases</th>\n",
       "      <th>newlyRecoveredCases</th>\n",
       "    </tr>\n",
       "  </thead>\n",
       "  <tbody>\n",
       "    <tr>\n",
       "      <th>0</th>\n",
       "      <td>Afghanistan</td>\n",
       "      <td>55696</td>\n",
       "      <td>16</td>\n",
       "      <td>2442</td>\n",
       "      <td>4</td>\n",
       "      <td>49281</td>\n",
       "      <td>195</td>\n",
       "    </tr>\n",
       "    <tr>\n",
       "      <th>1</th>\n",
       "      <td>Albania</td>\n",
       "      <td>104313</td>\n",
       "      <td>986</td>\n",
       "      <td>1736</td>\n",
       "      <td>21</td>\n",
       "      <td>67158</td>\n",
       "      <td>849</td>\n",
       "    </tr>\n",
       "    <tr>\n",
       "      <th>2</th>\n",
       "      <td>Algeria</td>\n",
       "      <td>112622</td>\n",
       "      <td>161</td>\n",
       "      <td>2973</td>\n",
       "      <td>3</td>\n",
       "      <td>77683</td>\n",
       "      <td>146</td>\n",
       "    </tr>\n",
       "    <tr>\n",
       "      <th>3</th>\n",
       "      <td>Andorra</td>\n",
       "      <td>10799</td>\n",
       "      <td>24</td>\n",
       "      <td>110</td>\n",
       "      <td>0</td>\n",
       "      <td>10356</td>\n",
       "      <td>37</td>\n",
       "    </tr>\n",
       "    <tr>\n",
       "      <th>4</th>\n",
       "      <td>Angola</td>\n",
       "      <td>20695</td>\n",
       "      <td>55</td>\n",
       "      <td>502</td>\n",
       "      <td>1</td>\n",
       "      <td>19238</td>\n",
       "      <td>17</td>\n",
       "    </tr>\n",
       "  </tbody>\n",
       "</table>\n",
       "</div>"
      ],
      "text/plain": [
       "      location  totalConfirmedCases  newlyConfirmedCases  totalDeaths  \\\n",
       "0  Afghanistan                55696                   16         2442   \n",
       "1      Albania               104313                  986         1736   \n",
       "2      Algeria               112622                  161         2973   \n",
       "3      Andorra                10799                   24          110   \n",
       "4       Angola                20695                   55          502   \n",
       "\n",
       "   newDeaths  totalRecoveredCases  newlyRecoveredCases  \n",
       "0          4                49281                  195  \n",
       "1         21                67158                  849  \n",
       "2          3                77683                  146  \n",
       "3          0                10356                   37  \n",
       "4          1                19238                   17  "
      ]
     },
     "execution_count": 2,
     "metadata": {},
     "output_type": "execute_result"
    }
   ],
   "source": [
    "df=pd.read_csv('modified_data.csv')\n",
    "df.head()"
   ]
  },
  {
   "cell_type": "markdown",
   "metadata": {},
   "source": [
    "Data Cleaning "
   ]
  },
  {
   "cell_type": "code",
   "execution_count": 10,
   "metadata": {},
   "outputs": [
    {
     "data": {
      "text/html": [
       "<div>\n",
       "<style scoped>\n",
       "    .dataframe tbody tr th:only-of-type {\n",
       "        vertical-align: middle;\n",
       "    }\n",
       "\n",
       "    .dataframe tbody tr th {\n",
       "        vertical-align: top;\n",
       "    }\n",
       "\n",
       "    .dataframe thead th {\n",
       "        text-align: right;\n",
       "    }\n",
       "</style>\n",
       "<table border=\"1\" class=\"dataframe\">\n",
       "  <thead>\n",
       "    <tr style=\"text-align: right;\">\n",
       "      <th></th>\n",
       "      <th>location</th>\n",
       "      <th>totalConfirmedCases</th>\n",
       "      <th>newlyConfirmedCases</th>\n",
       "      <th>totalDeaths</th>\n",
       "      <th>newDeaths</th>\n",
       "      <th>totalRecoveredCases</th>\n",
       "      <th>newlyRecoveredCases</th>\n",
       "    </tr>\n",
       "  </thead>\n",
       "  <tbody>\n",
       "    <tr>\n",
       "      <th>0</th>\n",
       "      <td>Afghanistan</td>\n",
       "      <td>55696</td>\n",
       "      <td>16</td>\n",
       "      <td>2442</td>\n",
       "      <td>4</td>\n",
       "      <td>49281</td>\n",
       "      <td>195</td>\n",
       "    </tr>\n",
       "    <tr>\n",
       "      <th>1</th>\n",
       "      <td>Albania</td>\n",
       "      <td>104313</td>\n",
       "      <td>986</td>\n",
       "      <td>1736</td>\n",
       "      <td>21</td>\n",
       "      <td>67158</td>\n",
       "      <td>849</td>\n",
       "    </tr>\n",
       "    <tr>\n",
       "      <th>2</th>\n",
       "      <td>Algeria</td>\n",
       "      <td>112622</td>\n",
       "      <td>161</td>\n",
       "      <td>2973</td>\n",
       "      <td>3</td>\n",
       "      <td>77683</td>\n",
       "      <td>146</td>\n",
       "    </tr>\n",
       "    <tr>\n",
       "      <th>3</th>\n",
       "      <td>Andorra</td>\n",
       "      <td>10799</td>\n",
       "      <td>24</td>\n",
       "      <td>110</td>\n",
       "      <td>0</td>\n",
       "      <td>10356</td>\n",
       "      <td>37</td>\n",
       "    </tr>\n",
       "    <tr>\n",
       "      <th>4</th>\n",
       "      <td>Angola</td>\n",
       "      <td>20695</td>\n",
       "      <td>55</td>\n",
       "      <td>502</td>\n",
       "      <td>1</td>\n",
       "      <td>19238</td>\n",
       "      <td>17</td>\n",
       "    </tr>\n",
       "    <tr>\n",
       "      <th>...</th>\n",
       "      <td>...</td>\n",
       "      <td>...</td>\n",
       "      <td>...</td>\n",
       "      <td>...</td>\n",
       "      <td>...</td>\n",
       "      <td>...</td>\n",
       "      <td>...</td>\n",
       "    </tr>\n",
       "    <tr>\n",
       "      <th>229</th>\n",
       "      <td>Wallis and Futuna</td>\n",
       "      <td>9</td>\n",
       "      <td>0</td>\n",
       "      <td>0</td>\n",
       "      <td>0</td>\n",
       "      <td>6</td>\n",
       "      <td>0</td>\n",
       "    </tr>\n",
       "    <tr>\n",
       "      <th>230</th>\n",
       "      <td>Marshall Islands</td>\n",
       "      <td>4</td>\n",
       "      <td>0</td>\n",
       "      <td>0</td>\n",
       "      <td>0</td>\n",
       "      <td>4</td>\n",
       "      <td>0</td>\n",
       "    </tr>\n",
       "    <tr>\n",
       "      <th>231</th>\n",
       "      <td>Vanuatu</td>\n",
       "      <td>1</td>\n",
       "      <td>0</td>\n",
       "      <td>0</td>\n",
       "      <td>0</td>\n",
       "      <td>1</td>\n",
       "      <td>0</td>\n",
       "    </tr>\n",
       "    <tr>\n",
       "      <th>232</th>\n",
       "      <td>Samoa</td>\n",
       "      <td>3</td>\n",
       "      <td>0</td>\n",
       "      <td>0</td>\n",
       "      <td>0</td>\n",
       "      <td>2</td>\n",
       "      <td>0</td>\n",
       "    </tr>\n",
       "    <tr>\n",
       "      <th>233</th>\n",
       "      <td>Micronesia</td>\n",
       "      <td>1</td>\n",
       "      <td>0</td>\n",
       "      <td>0</td>\n",
       "      <td>0</td>\n",
       "      <td>1</td>\n",
       "      <td>0</td>\n",
       "    </tr>\n",
       "  </tbody>\n",
       "</table>\n",
       "<p>234 rows × 7 columns</p>\n",
       "</div>"
      ],
      "text/plain": [
       "              location  totalConfirmedCases  newlyConfirmedCases  totalDeaths  \\\n",
       "0          Afghanistan                55696                   16         2442   \n",
       "1              Albania               104313                  986         1736   \n",
       "2              Algeria               112622                  161         2973   \n",
       "3              Andorra                10799                   24          110   \n",
       "4               Angola                20695                   55          502   \n",
       "..                 ...                  ...                  ...          ...   \n",
       "229  Wallis and Futuna                    9                    0            0   \n",
       "230   Marshall Islands                    4                    0            0   \n",
       "231            Vanuatu                    1                    0            0   \n",
       "232              Samoa                    3                    0            0   \n",
       "233         Micronesia                    1                    0            0   \n",
       "\n",
       "     newDeaths  totalRecoveredCases  newlyRecoveredCases  \n",
       "0            4                49281                  195  \n",
       "1           21                67158                  849  \n",
       "2            3                77683                  146  \n",
       "3            0                10356                   37  \n",
       "4            1                19238                   17  \n",
       "..         ...                  ...                  ...  \n",
       "229          0                    6                    0  \n",
       "230          0                    4                    0  \n",
       "231          0                    1                    0  \n",
       "232          0                    2                    0  \n",
       "233          0                    1                    0  \n",
       "\n",
       "[234 rows x 7 columns]"
      ]
     },
     "execution_count": 10,
     "metadata": {},
     "output_type": "execute_result"
    }
   ],
   "source": [
    "# Remove if our data has dublicates..\n",
    "df[df.duplicated(keep=False)]\n",
    "df"
   ]
  },
  {
   "cell_type": "code",
   "execution_count": 11,
   "metadata": {},
   "outputs": [
    {
     "data": {
      "text/html": [
       "<div>\n",
       "<style scoped>\n",
       "    .dataframe tbody tr th:only-of-type {\n",
       "        vertical-align: middle;\n",
       "    }\n",
       "\n",
       "    .dataframe tbody tr th {\n",
       "        vertical-align: top;\n",
       "    }\n",
       "\n",
       "    .dataframe thead th {\n",
       "        text-align: right;\n",
       "    }\n",
       "</style>\n",
       "<table border=\"1\" class=\"dataframe\">\n",
       "  <thead>\n",
       "    <tr style=\"text-align: right;\">\n",
       "      <th></th>\n",
       "      <th>location</th>\n",
       "      <th>totalConfirmedCases</th>\n",
       "      <th>newlyConfirmedCases</th>\n",
       "      <th>totalDeaths</th>\n",
       "      <th>newDeaths</th>\n",
       "      <th>totalRecoveredCases</th>\n",
       "      <th>newlyRecoveredCases</th>\n",
       "    </tr>\n",
       "  </thead>\n",
       "  <tbody>\n",
       "    <tr>\n",
       "      <th>0</th>\n",
       "      <td>False</td>\n",
       "      <td>False</td>\n",
       "      <td>False</td>\n",
       "      <td>False</td>\n",
       "      <td>False</td>\n",
       "      <td>False</td>\n",
       "      <td>False</td>\n",
       "    </tr>\n",
       "    <tr>\n",
       "      <th>1</th>\n",
       "      <td>False</td>\n",
       "      <td>False</td>\n",
       "      <td>False</td>\n",
       "      <td>False</td>\n",
       "      <td>False</td>\n",
       "      <td>False</td>\n",
       "      <td>False</td>\n",
       "    </tr>\n",
       "    <tr>\n",
       "      <th>2</th>\n",
       "      <td>False</td>\n",
       "      <td>False</td>\n",
       "      <td>False</td>\n",
       "      <td>False</td>\n",
       "      <td>False</td>\n",
       "      <td>False</td>\n",
       "      <td>False</td>\n",
       "    </tr>\n",
       "    <tr>\n",
       "      <th>3</th>\n",
       "      <td>False</td>\n",
       "      <td>False</td>\n",
       "      <td>False</td>\n",
       "      <td>False</td>\n",
       "      <td>False</td>\n",
       "      <td>False</td>\n",
       "      <td>False</td>\n",
       "    </tr>\n",
       "    <tr>\n",
       "      <th>4</th>\n",
       "      <td>False</td>\n",
       "      <td>False</td>\n",
       "      <td>False</td>\n",
       "      <td>False</td>\n",
       "      <td>False</td>\n",
       "      <td>False</td>\n",
       "      <td>False</td>\n",
       "    </tr>\n",
       "    <tr>\n",
       "      <th>...</th>\n",
       "      <td>...</td>\n",
       "      <td>...</td>\n",
       "      <td>...</td>\n",
       "      <td>...</td>\n",
       "      <td>...</td>\n",
       "      <td>...</td>\n",
       "      <td>...</td>\n",
       "    </tr>\n",
       "    <tr>\n",
       "      <th>229</th>\n",
       "      <td>False</td>\n",
       "      <td>False</td>\n",
       "      <td>False</td>\n",
       "      <td>False</td>\n",
       "      <td>False</td>\n",
       "      <td>False</td>\n",
       "      <td>False</td>\n",
       "    </tr>\n",
       "    <tr>\n",
       "      <th>230</th>\n",
       "      <td>False</td>\n",
       "      <td>False</td>\n",
       "      <td>False</td>\n",
       "      <td>False</td>\n",
       "      <td>False</td>\n",
       "      <td>False</td>\n",
       "      <td>False</td>\n",
       "    </tr>\n",
       "    <tr>\n",
       "      <th>231</th>\n",
       "      <td>False</td>\n",
       "      <td>False</td>\n",
       "      <td>False</td>\n",
       "      <td>False</td>\n",
       "      <td>False</td>\n",
       "      <td>False</td>\n",
       "      <td>False</td>\n",
       "    </tr>\n",
       "    <tr>\n",
       "      <th>232</th>\n",
       "      <td>False</td>\n",
       "      <td>False</td>\n",
       "      <td>False</td>\n",
       "      <td>False</td>\n",
       "      <td>False</td>\n",
       "      <td>False</td>\n",
       "      <td>False</td>\n",
       "    </tr>\n",
       "    <tr>\n",
       "      <th>233</th>\n",
       "      <td>False</td>\n",
       "      <td>False</td>\n",
       "      <td>False</td>\n",
       "      <td>False</td>\n",
       "      <td>False</td>\n",
       "      <td>False</td>\n",
       "      <td>False</td>\n",
       "    </tr>\n",
       "  </tbody>\n",
       "</table>\n",
       "<p>234 rows × 7 columns</p>\n",
       "</div>"
      ],
      "text/plain": [
       "     location  totalConfirmedCases  newlyConfirmedCases  totalDeaths  \\\n",
       "0       False                False                False        False   \n",
       "1       False                False                False        False   \n",
       "2       False                False                False        False   \n",
       "3       False                False                False        False   \n",
       "4       False                False                False        False   \n",
       "..        ...                  ...                  ...          ...   \n",
       "229     False                False                False        False   \n",
       "230     False                False                False        False   \n",
       "231     False                False                False        False   \n",
       "232     False                False                False        False   \n",
       "233     False                False                False        False   \n",
       "\n",
       "     newDeaths  totalRecoveredCases  newlyRecoveredCases  \n",
       "0        False                False                False  \n",
       "1        False                False                False  \n",
       "2        False                False                False  \n",
       "3        False                False                False  \n",
       "4        False                False                False  \n",
       "..         ...                  ...                  ...  \n",
       "229      False                False                False  \n",
       "230      False                False                False  \n",
       "231      False                False                False  \n",
       "232      False                False                False  \n",
       "233      False                False                False  \n",
       "\n",
       "[234 rows x 7 columns]"
      ]
     },
     "execution_count": 11,
     "metadata": {},
     "output_type": "execute_result"
    }
   ],
   "source": [
    "#Checking if our data has null values\n",
    "df.isnull()"
   ]
  },
  {
   "cell_type": "code",
   "execution_count": 13,
   "metadata": {},
   "outputs": [
    {
     "data": {
      "text/plain": [
       "<bound method DataFrame.sum of               location  totalConfirmedCases  newlyConfirmedCases  totalDeaths  \\\n",
       "0          Afghanistan                55696                   16         2442   \n",
       "1              Albania               104313                  986         1736   \n",
       "2              Algeria               112622                  161         2973   \n",
       "3              Andorra                10799                   24          110   \n",
       "4               Angola                20695                   55          502   \n",
       "..                 ...                  ...                  ...          ...   \n",
       "229  Wallis and Futuna                    9                    0            0   \n",
       "230   Marshall Islands                    4                    0            0   \n",
       "231            Vanuatu                    1                    0            0   \n",
       "232              Samoa                    3                    0            0   \n",
       "233         Micronesia                    1                    0            0   \n",
       "\n",
       "     newDeaths  totalRecoveredCases  newlyRecoveredCases  \n",
       "0            4                49281                  195  \n",
       "1           21                67158                  849  \n",
       "2            3                77683                  146  \n",
       "3            0                10356                   37  \n",
       "4            1                19238                   17  \n",
       "..         ...                  ...                  ...  \n",
       "229          0                    6                    0  \n",
       "230          0                    4                    0  \n",
       "231          0                    1                    0  \n",
       "232          0                    2                    0  \n",
       "233          0                    1                    0  \n",
       "\n",
       "[234 rows x 7 columns]>"
      ]
     },
     "execution_count": 13,
     "metadata": {},
     "output_type": "execute_result"
    }
   ],
   "source": [
    "df.shape\n",
    "df.sum"
   ]
  },
  {
   "cell_type": "markdown",
   "metadata": {},
   "source": [
    "Time Series Visualization of of 'totalConfirmedCases', 'totalDeaths', and 'totalRecoveredCases' over time. "
   ]
  },
  {
   "cell_type": "code",
   "execution_count": 3,
   "metadata": {},
   "outputs": [
    {
     "data": {
      "application/vnd.plotly.v1+json": {
       "config": {
        "plotlyServerURL": "https://plot.ly"
       },
       "data": [
        {
         "name": "Total Confirmed Cases",
         "type": "bar",
         "x": [
          "Afghanistan",
          "Albania",
          "Algeria",
          "Andorra",
          "Angola",
          "Anguilla",
          "Antigua and Barbuda",
          "Argentina",
          "Armenia",
          "Aruba",
          "Australia",
          "Austria",
          "Azerbaijan",
          "Bahamas",
          "Bahrain",
          "Bangladesh",
          "Barbados",
          "Belarus",
          "Belgium",
          "Belize",
          "Benin",
          "Bermuda",
          "Bhutan",
          "Bolivia",
          "Bosnia and Herzegovina",
          "Botswana",
          "Brazil",
          "British Virgin Islands",
          "Brunei",
          "Bulgaria",
          "Burkina Faso",
          "Burma",
          "Burundi",
          "CAR",
          "Cabo Verde",
          "Cambodia",
          "Cameroon",
          "Canada",
          "Cape Verde",
          "Caribbean Netherlands",
          "Cayman Islands",
          "Central African Republic",
          "Chad",
          "Channel Islands",
          "Chile",
          "China",
          "Colombia",
          "Comoros",
          "Costa Rica",
          "Cote d'Ivoire",
          "Croatia",
          "Cruise Ship: Diamond Princess",
          "Cuba",
          "Curacao",
          "Cyprus",
          "Czechia",
          "Democratic Republic of the Congo",
          "Denmark",
          "Djibouti",
          "Dominica",
          "Dominican Republic",
          "East Timor",
          "Ecuador",
          "Egypt",
          "El Salvador",
          "Equatorial Guinea",
          "Eritrea",
          "Estonia",
          "Eswatini",
          "Ethiopia",
          "Faeroe Islands",
          "Falkland Islands",
          "Falkland Islands (Malvinas)",
          "Faroe Islands",
          "Fench Guiana",
          "Fiji",
          "Finland",
          "France",
          "French Guiana",
          "French Polynesia",
          "Gabon",
          "Gambia",
          "Georgia",
          "Germany",
          "Ghana",
          "Gibraltar",
          "Greece",
          "Greenland",
          "Grenada",
          "Guadeloupe",
          "Guatemala",
          "Guernsey",
          "Guinea",
          "Guinea-Bissau",
          "Guyana",
          "Haiti",
          "Holy See",
          "Honduras",
          "Hungary",
          "Iceland",
          "India",
          "Indonesia",
          "Iran",
          "Iraq",
          "Ireland",
          "Isle of Man",
          "Israel",
          "Italy",
          "Jamaica",
          "Japan",
          "Jersey",
          "Jordan",
          "Kazakhstan",
          "Kenya",
          "Kosovo",
          "Kuwait",
          "Kyrgyzstan",
          "Laos",
          "Latvia",
          "Lebanon",
          "Lesotho",
          "Liberia",
          "Libya",
          "Liechtenstein",
          "Lithuania",
          "Luxembourg",
          "MS Zaandam",
          "Madagascar",
          "Malawi",
          "Malaysia",
          "Maldives",
          "Mali",
          "Malta",
          "Marshall Islands",
          "Martinique",
          "Mauritania",
          "Mauritius",
          "Mayotte",
          "Mexico",
          "Micronesia",
          "Moldova",
          "Monaco",
          "Mongolia",
          "Montenegro",
          "Montserrat",
          "Morocco",
          "Mozambique",
          "Myanmar",
          "Namibia",
          "Nepal",
          "Netherlands",
          "New Caledonia",
          "New Zealand",
          "Nicaragua",
          "Niger",
          "Nigeria",
          "North Macedonia",
          "Norway",
          "Oman",
          "Pakistan",
          "Palestine",
          "Panama",
          "Papua New Guinea",
          "Paraguay",
          "Peru",
          "Philippines",
          "Poland",
          "Portugal",
          "Qatar",
          "Republic of the Congo",
          "Reunion",
          "Romania",
          "Russia",
          "Rwanda",
          "Saint Barthelemy",
          "Saint Kitts and Nevis",
          "Saint Lucia",
          "Saint Martin",
          "Saint Pierre Miquelon",
          "Saint Pierre and Miquelon",
          "Saint Vincent and the Grenadines",
          "Samoa",
          "San Marino",
          "Sao Tome and Principe",
          "Saudi Arabia",
          "Senegal",
          "Serbia",
          "Seychelles",
          "Sierra Leone",
          "Singapore",
          "Sint Maarten",
          "Slovakia",
          "Slovenia",
          "Solomon Islands",
          "Somalia",
          "South Africa",
          "South Korea",
          "South Sudan",
          "Spain",
          "Sri Lanka",
          "Sudan",
          "Suriname",
          "Sweden",
          "Switzerland",
          "Syria",
          "Taiwan",
          "Tajikistan",
          "Tanzania",
          "Thailand",
          "The Bahamas",
          "The Gambia",
          "Timor-Leste",
          "Togo",
          "Trinidad and Tobago",
          "Tunisia",
          "Turkey",
          "Turks and Caicos",
          "Turks and Caicos Islands",
          "Uganda",
          "Ukraine",
          "United Arab Emirates",
          "United Kingdom",
          "United States",
          "Uruguay",
          "Uzbekistan",
          "Vanuatu",
          "Venezuela",
          "Vietnam",
          "Wallis and Futuna",
          "West Bank and Gaza",
          "Western Sahara",
          "Yemen",
          "Zambia",
          "Zimbabwe"
         ],
         "y": [
          55696,
          104313,
          112622,
          10799,
          20695,
          18,
          701,
          2093645,
          171227,
          7804,
          6991,
          452767,
          233770,
          94,
          120495,
          544954,
          2949,
          282898,
          763885,
          12280,
          5434,
          705,
          867,
          246822,
          130510,
          28371,
          10393886,
          114,
          185,
          243946,
          11914,
          181,
          2106,
          1,
          15201,
          741,
          35714,
          863496,
          1,
          429,
          438,
          5004,
          3934,
          4032,
          812344,
          93904,
          2241225,
          3552,
          203914,
          32295,
          241592,
          712,
          47566,
          4708,
          33909,
          1198168,
          25144,
          209682,
          6060,
          142,
          237629,
          1,
          281169,
          180640,
          59866,
          5852,
          2826,
          61627,
          16946,
          156112,
          658,
          54,
          13,
          187,
          5,
          57,
          55687,
          3686813,
          16529,
          18379,
          14234,
          23,
          269800,
          2426819,
          81673,
          4235,
          186469,
          30,
          148,
          9746,
          173142,
          1,
          15789,
          3215,
          8485,
          12390,
          27,
          168243,
          414514,
          6049,
          11063491,
          1314634,
          1607081,
          684362,
          217478,
          475,
          767726,
          2868435,
          22267,
          428553,
          2,
          380268,
          211212,
          105057,
          919,
          188024,
          86142,
          45,
          84258,
          366319,
          10468,
          2009,
          131833,
          2558,
          196047,
          54871,
          9,
          19831,
          31502,
          293698,
          19346,
          8349,
          21724,
          4,
          6687,
          17179,
          610,
          16861,
          2069370,
          1,
          181886,
          1932,
          2831,
          74183,
          20,
          482514,
          57597,
          141841,
          38206,
          273872,
          1073971,
          57,
          2371,
          6445,
          4740,
          154476,
          101214,
          70040,
          140588,
          577482,
          179293,
          339383,
          1228,
          156189,
          1308722,
          568680,
          1673252,
          801746,
          162268,
          8820,
          12416,
          791971,
          4212100,
          18553,
          573,
          41,
          3149,
          1544,
          24,
          1,
          1519,
          3,
          3621,
          1719,
          376377,
          33741,
          449901,
          2562,
          3884,
          59900,
          2051,
          300775,
          187762,
          18,
          6687,
          1509124,
          88922,
          7349,
          3180212,
          81933,
          28270,
          8901,
          652465,
          553867,
          15405,
          951,
          13308,
          509,
          25809,
          8496,
          4671,
          110,
          6637,
          7697,
          231298,
          2674766,
          2070,
          12,
          40300,
          1325841,
          381662,
          4154562,
          28089251,
          55695,
          79804,
          1,
          137871,
          2421,
          9,
          495,
          10,
          2436,
          77171,
          35994
         ]
        },
        {
         "name": "Total Deaths",
         "type": "bar",
         "x": [
          "Afghanistan",
          "Albania",
          "Algeria",
          "Andorra",
          "Angola",
          "Anguilla",
          "Antigua and Barbuda",
          "Argentina",
          "Armenia",
          "Aruba",
          "Australia",
          "Austria",
          "Azerbaijan",
          "Bahamas",
          "Bahrain",
          "Bangladesh",
          "Barbados",
          "Belarus",
          "Belgium",
          "Belize",
          "Benin",
          "Bermuda",
          "Bhutan",
          "Bolivia",
          "Bosnia and Herzegovina",
          "Botswana",
          "Brazil",
          "British Virgin Islands",
          "Brunei",
          "Bulgaria",
          "Burkina Faso",
          "Burma",
          "Burundi",
          "CAR",
          "Cabo Verde",
          "Cambodia",
          "Cameroon",
          "Canada",
          "Cape Verde",
          "Caribbean Netherlands",
          "Cayman Islands",
          "Central African Republic",
          "Chad",
          "Channel Islands",
          "Chile",
          "China",
          "Colombia",
          "Comoros",
          "Costa Rica",
          "Cote d'Ivoire",
          "Croatia",
          "Cruise Ship: Diamond Princess",
          "Cuba",
          "Curacao",
          "Cyprus",
          "Czechia",
          "Democratic Republic of the Congo",
          "Denmark",
          "Djibouti",
          "Dominica",
          "Dominican Republic",
          "East Timor",
          "Ecuador",
          "Egypt",
          "El Salvador",
          "Equatorial Guinea",
          "Eritrea",
          "Estonia",
          "Eswatini",
          "Ethiopia",
          "Faeroe Islands",
          "Falkland Islands",
          "Falkland Islands (Malvinas)",
          "Faroe Islands",
          "Fench Guiana",
          "Fiji",
          "Finland",
          "France",
          "French Guiana",
          "French Polynesia",
          "Gabon",
          "Gambia",
          "Georgia",
          "Germany",
          "Ghana",
          "Gibraltar",
          "Greece",
          "Greenland",
          "Grenada",
          "Guadeloupe",
          "Guatemala",
          "Guernsey",
          "Guinea",
          "Guinea-Bissau",
          "Guyana",
          "Haiti",
          "Holy See",
          "Honduras",
          "Hungary",
          "Iceland",
          "India",
          "Indonesia",
          "Iran",
          "Iraq",
          "Ireland",
          "Isle of Man",
          "Israel",
          "Italy",
          "Jamaica",
          "Japan",
          "Jersey",
          "Jordan",
          "Kazakhstan",
          "Kenya",
          "Kosovo",
          "Kuwait",
          "Kyrgyzstan",
          "Laos",
          "Latvia",
          "Lebanon",
          "Lesotho",
          "Liberia",
          "Libya",
          "Liechtenstein",
          "Lithuania",
          "Luxembourg",
          "MS Zaandam",
          "Madagascar",
          "Malawi",
          "Malaysia",
          "Maldives",
          "Mali",
          "Malta",
          "Marshall Islands",
          "Martinique",
          "Mauritania",
          "Mauritius",
          "Mayotte",
          "Mexico",
          "Micronesia",
          "Moldova",
          "Monaco",
          "Mongolia",
          "Montenegro",
          "Montserrat",
          "Morocco",
          "Mozambique",
          "Myanmar",
          "Namibia",
          "Nepal",
          "Netherlands",
          "New Caledonia",
          "New Zealand",
          "Nicaragua",
          "Niger",
          "Nigeria",
          "North Macedonia",
          "Norway",
          "Oman",
          "Pakistan",
          "Palestine",
          "Panama",
          "Papua New Guinea",
          "Paraguay",
          "Peru",
          "Philippines",
          "Poland",
          "Portugal",
          "Qatar",
          "Republic of the Congo",
          "Reunion",
          "Romania",
          "Russia",
          "Rwanda",
          "Saint Barthelemy",
          "Saint Kitts and Nevis",
          "Saint Lucia",
          "Saint Martin",
          "Saint Pierre Miquelon",
          "Saint Pierre and Miquelon",
          "Saint Vincent and the Grenadines",
          "Samoa",
          "San Marino",
          "Sao Tome and Principe",
          "Saudi Arabia",
          "Senegal",
          "Serbia",
          "Seychelles",
          "Sierra Leone",
          "Singapore",
          "Sint Maarten",
          "Slovakia",
          "Slovenia",
          "Solomon Islands",
          "Somalia",
          "South Africa",
          "South Korea",
          "South Sudan",
          "Spain",
          "Sri Lanka",
          "Sudan",
          "Suriname",
          "Sweden",
          "Switzerland",
          "Syria",
          "Taiwan",
          "Tajikistan",
          "Tanzania",
          "Thailand",
          "The Bahamas",
          "The Gambia",
          "Timor-Leste",
          "Togo",
          "Trinidad and Tobago",
          "Tunisia",
          "Turkey",
          "Turks and Caicos",
          "Turks and Caicos Islands",
          "Uganda",
          "Ukraine",
          "United Arab Emirates",
          "United Kingdom",
          "United States",
          "Uruguay",
          "Uzbekistan",
          "Vanuatu",
          "Venezuela",
          "Vietnam",
          "Wallis and Futuna",
          "West Bank and Gaza",
          "Western Sahara",
          "Yemen",
          "Zambia",
          "Zimbabwe"
         ],
         "y": [
          2442,
          1736,
          2973,
          110,
          502,
          0,
          14,
          51795,
          3179,
          71,
          98,
          8493,
          3209,
          11,
          439,
          8384,
          32,
          1948,
          22006,
          315,
          70,
          12,
          1,
          11577,
          5062,
          310,
          251661,
          1,
          3,
          10079,
          142,
          6,
          3,
          0,
          145,
          0,
          551,
          21868,
          0,
          4,
          2,
          63,
          137,
          86,
          20310,
          4831,
          59396,
          144,
          2796,
          188,
          5489,
          13,
          312,
          22,
          231,
          19835,
          700,
          2351,
          63,
          0,
          3075,
          0,
          15669,
          10541,
          1832,
          91,
          7,
          567,
          650,
          2321,
          1,
          0,
          0,
          0,
          0,
          2,
          740,
          85582,
          83,
          139,
          80,
          1,
          3475,
          70003,
          588,
          92,
          6410,
          0,
          1,
          159,
          6334,
          0,
          88,
          48,
          195,
          248,
          0,
          4099,
          14672,
          29,
          156861,
          35518,
          59830,
          13351,
          4271,
          25,
          5687,
          96974,
          410,
          7647,
          0,
          4627,
          2540,
          1847,
          29,
          1067,
          1498,
          0,
          1593,
          4560,
          292,
          85,
          2156,
          54,
          3209,
          634,
          2,
          297,
          1033,
          1100,
          60,
          349,
          311,
          0,
          45,
          439,
          10,
          102,
          183692,
          0,
          3871,
          23,
          2,
          987,
          1,
          8598,
          613,
          3198,
          416,
          2685,
          15438,
          0,
          26,
          173,
          172,
          1891,
          3111,
          620,
          1562,
          12804,
          2008,
          5810,
          12,
          3135,
          45903,
          12201,
          43094,
          16185,
          257,
          128,
          52,
          20167,
          84876,
          258,
          1,
          0,
          34,
          12,
          0,
          0,
          6,
          0,
          73,
          27,
          6480,
          852,
          4398,
          11,
          79,
          29,
          27,
          6859,
          3809,
          0,
          223,
          49667,
          1585,
          87,
          68813,
          459,
          1878,
          170,
          12798,
          9954,
          1014,
          9,
          90,
          21,
          83,
          179,
          147,
          0,
          82,
          139,
          7911,
          28358,
          14,
          1,
          334,
          25596,
          1182,
          122070,
          514334,
          595,
          622,
          0,
          1334,
          35,
          0,
          4,
          1,
          660,
          1059,
          1458
         ]
        },
        {
         "name": "Total Recovered Cases",
         "type": "bar",
         "x": [
          "Afghanistan",
          "Albania",
          "Algeria",
          "Andorra",
          "Angola",
          "Anguilla",
          "Antigua and Barbuda",
          "Argentina",
          "Armenia",
          "Aruba",
          "Australia",
          "Austria",
          "Azerbaijan",
          "Bahamas",
          "Bahrain",
          "Bangladesh",
          "Barbados",
          "Belarus",
          "Belgium",
          "Belize",
          "Benin",
          "Bermuda",
          "Bhutan",
          "Bolivia",
          "Bosnia and Herzegovina",
          "Botswana",
          "Brazil",
          "British Virgin Islands",
          "Brunei",
          "Bulgaria",
          "Burkina Faso",
          "Burma",
          "Burundi",
          "CAR",
          "Cabo Verde",
          "Cambodia",
          "Cameroon",
          "Canada",
          "Cape Verde",
          "Caribbean Netherlands",
          "Cayman Islands",
          "Central African Republic",
          "Chad",
          "Channel Islands",
          "Chile",
          "China",
          "Colombia",
          "Comoros",
          "Costa Rica",
          "Cote d'Ivoire",
          "Croatia",
          "Cruise Ship: Diamond Princess",
          "Cuba",
          "Curacao",
          "Cyprus",
          "Czechia",
          "Democratic Republic of the Congo",
          "Denmark",
          "Djibouti",
          "Dominica",
          "Dominican Republic",
          "East Timor",
          "Ecuador",
          "Egypt",
          "El Salvador",
          "Equatorial Guinea",
          "Eritrea",
          "Estonia",
          "Eswatini",
          "Ethiopia",
          "Faeroe Islands",
          "Falkland Islands",
          "Falkland Islands (Malvinas)",
          "Faroe Islands",
          "Fench Guiana",
          "Fiji",
          "Finland",
          "France",
          "French Guiana",
          "French Polynesia",
          "Gabon",
          "Gambia",
          "Georgia",
          "Germany",
          "Ghana",
          "Gibraltar",
          "Greece",
          "Greenland",
          "Grenada",
          "Guadeloupe",
          "Guatemala",
          "Guernsey",
          "Guinea",
          "Guinea-Bissau",
          "Guyana",
          "Haiti",
          "Holy See",
          "Honduras",
          "Hungary",
          "Iceland",
          "India",
          "Indonesia",
          "Iran",
          "Iraq",
          "Ireland",
          "Isle of Man",
          "Israel",
          "Italy",
          "Jamaica",
          "Japan",
          "Jersey",
          "Jordan",
          "Kazakhstan",
          "Kenya",
          "Kosovo",
          "Kuwait",
          "Kyrgyzstan",
          "Laos",
          "Latvia",
          "Lebanon",
          "Lesotho",
          "Liberia",
          "Libya",
          "Liechtenstein",
          "Lithuania",
          "Luxembourg",
          "MS Zaandam",
          "Madagascar",
          "Malawi",
          "Malaysia",
          "Maldives",
          "Mali",
          "Malta",
          "Marshall Islands",
          "Martinique",
          "Mauritania",
          "Mauritius",
          "Mayotte",
          "Mexico",
          "Micronesia",
          "Moldova",
          "Monaco",
          "Mongolia",
          "Montenegro",
          "Montserrat",
          "Morocco",
          "Mozambique",
          "Myanmar",
          "Namibia",
          "Nepal",
          "Netherlands",
          "New Caledonia",
          "New Zealand",
          "Nicaragua",
          "Niger",
          "Nigeria",
          "North Macedonia",
          "Norway",
          "Oman",
          "Pakistan",
          "Palestine",
          "Panama",
          "Papua New Guinea",
          "Paraguay",
          "Peru",
          "Philippines",
          "Poland",
          "Portugal",
          "Qatar",
          "Republic of the Congo",
          "Reunion",
          "Romania",
          "Russia",
          "Rwanda",
          "Saint Barthelemy",
          "Saint Kitts and Nevis",
          "Saint Lucia",
          "Saint Martin",
          "Saint Pierre Miquelon",
          "Saint Pierre and Miquelon",
          "Saint Vincent and the Grenadines",
          "Samoa",
          "San Marino",
          "Sao Tome and Principe",
          "Saudi Arabia",
          "Senegal",
          "Serbia",
          "Seychelles",
          "Sierra Leone",
          "Singapore",
          "Sint Maarten",
          "Slovakia",
          "Slovenia",
          "Solomon Islands",
          "Somalia",
          "South Africa",
          "South Korea",
          "South Sudan",
          "Spain",
          "Sri Lanka",
          "Sudan",
          "Suriname",
          "Sweden",
          "Switzerland",
          "Syria",
          "Taiwan",
          "Tajikistan",
          "Tanzania",
          "Thailand",
          "The Bahamas",
          "The Gambia",
          "Timor-Leste",
          "Togo",
          "Trinidad and Tobago",
          "Tunisia",
          "Turkey",
          "Turks and Caicos",
          "Turks and Caicos Islands",
          "Uganda",
          "Ukraine",
          "United Arab Emirates",
          "United Kingdom",
          "United States",
          "Uruguay",
          "Uzbekistan",
          "Vanuatu",
          "Venezuela",
          "Vietnam",
          "Wallis and Futuna",
          "West Bank and Gaza",
          "Western Sahara",
          "Yemen",
          "Zambia",
          "Zimbabwe"
         ],
         "y": [
          49281,
          67158,
          77683,
          10356,
          19238,
          18,
          271,
          1886732,
          162984,
          7494,
          6301,
          425786,
          228299,
          41,
          113132,
          494755,
          2171,
          273146,
          52091,
          11824,
          4248,
          682,
          862,
          191081,
          114995,
          23244,
          9323696,
          95,
          178,
          202694,
          11340,
          84,
          773,
          0,
          14694,
          477,
          32594,
          819761,
          0,
          402,
          405,
          4920,
          3420,
          3893,
          770190,
          89558,
          2138193,
          3203,
          175883,
          31224,
          233170,
          699,
          42809,
          4624,
          2057,
          1046575,
          16135,
          201154,
          5892,
          127,
          188300,
          0,
          238817,
          139494,
          55312,
          5559,
          2225,
          47460,
          14031,
          133607,
          656,
          46,
          13,
          187,
          0,
          54,
          40000,
          254868,
          9995,
          4842,
          12846,
          10,
          263727,
          2226500,
          74681,
          4119,
          165095,
          30,
          147,
          2242,
          160047,
          0,
          14821,
          2587,
          7890,
          9611,
          15,
          65425,
          315781,
          6005,
          10750680,
          1121411,
          1372308,
          627718,
          23364,
          451,
          722534,
          2375318,
          13173,
          405257,
          0,
          342600,
          195121,
          86497,
          671,
          176019,
          83061,
          42,
          73285,
          281194,
          3577,
          1884,
          118791,
          2484,
          181809,
          51290,
          7,
          19296,
          18045,
          263761,
          16838,
          6352,
          18905,
          4,
          98,
          16524,
          571,
          2964,
          1620008,
          1,
          164321,
          1690,
          2150,
          64737,
          13,
          467541,
          38676,
          131417,
          35788,
          270223,
          250,
          55,
          2278,
          4225,
          4250,
          131699,
          90685,
          63783,
          131684,
          542393,
          164557,
          324156,
          846,
          130531,
          1210749,
          524042,
          1397342,
          711713,
          152327,
          7019,
          11270,
          733616,
          3767664,
          17279,
          462,
          40,
          2879,
          1399,
          16,
          1,
          848,
          2,
          3201,
          1315,
          367323,
          28112,
          400347,
          2048,
          2612,
          59785,
          1988,
          255300,
          171905,
          14,
          3784,
          1424401,
          79880,
          4107,
          2617239,
          76961,
          22844,
          8385,
          4971,
          505666,
          9553,
          906,
          13218,
          183,
          24952,
          7274,
          4089,
          89,
          5489,
          7436,
          195739,
          2546503,
          1819,
          10,
          14616,
          1159311,
          375059,
          2727466,
          2796278,
          48496,
          78333,
          1,
          129927,
          1804,
          6,
          316,
          8,
          1580,
          70800,
          32455
         ]
        }
       ],
       "layout": {
        "barmode": "group",
        "template": {
         "data": {
          "bar": [
           {
            "error_x": {
             "color": "#2a3f5f"
            },
            "error_y": {
             "color": "#2a3f5f"
            },
            "marker": {
             "line": {
              "color": "#E5ECF6",
              "width": 0.5
             },
             "pattern": {
              "fillmode": "overlay",
              "size": 10,
              "solidity": 0.2
             }
            },
            "type": "bar"
           }
          ],
          "barpolar": [
           {
            "marker": {
             "line": {
              "color": "#E5ECF6",
              "width": 0.5
             },
             "pattern": {
              "fillmode": "overlay",
              "size": 10,
              "solidity": 0.2
             }
            },
            "type": "barpolar"
           }
          ],
          "carpet": [
           {
            "aaxis": {
             "endlinecolor": "#2a3f5f",
             "gridcolor": "white",
             "linecolor": "white",
             "minorgridcolor": "white",
             "startlinecolor": "#2a3f5f"
            },
            "baxis": {
             "endlinecolor": "#2a3f5f",
             "gridcolor": "white",
             "linecolor": "white",
             "minorgridcolor": "white",
             "startlinecolor": "#2a3f5f"
            },
            "type": "carpet"
           }
          ],
          "choropleth": [
           {
            "colorbar": {
             "outlinewidth": 0,
             "ticks": ""
            },
            "type": "choropleth"
           }
          ],
          "contour": [
           {
            "colorbar": {
             "outlinewidth": 0,
             "ticks": ""
            },
            "colorscale": [
             [
              0,
              "#0d0887"
             ],
             [
              0.1111111111111111,
              "#46039f"
             ],
             [
              0.2222222222222222,
              "#7201a8"
             ],
             [
              0.3333333333333333,
              "#9c179e"
             ],
             [
              0.4444444444444444,
              "#bd3786"
             ],
             [
              0.5555555555555556,
              "#d8576b"
             ],
             [
              0.6666666666666666,
              "#ed7953"
             ],
             [
              0.7777777777777778,
              "#fb9f3a"
             ],
             [
              0.8888888888888888,
              "#fdca26"
             ],
             [
              1,
              "#f0f921"
             ]
            ],
            "type": "contour"
           }
          ],
          "contourcarpet": [
           {
            "colorbar": {
             "outlinewidth": 0,
             "ticks": ""
            },
            "type": "contourcarpet"
           }
          ],
          "heatmap": [
           {
            "colorbar": {
             "outlinewidth": 0,
             "ticks": ""
            },
            "colorscale": [
             [
              0,
              "#0d0887"
             ],
             [
              0.1111111111111111,
              "#46039f"
             ],
             [
              0.2222222222222222,
              "#7201a8"
             ],
             [
              0.3333333333333333,
              "#9c179e"
             ],
             [
              0.4444444444444444,
              "#bd3786"
             ],
             [
              0.5555555555555556,
              "#d8576b"
             ],
             [
              0.6666666666666666,
              "#ed7953"
             ],
             [
              0.7777777777777778,
              "#fb9f3a"
             ],
             [
              0.8888888888888888,
              "#fdca26"
             ],
             [
              1,
              "#f0f921"
             ]
            ],
            "type": "heatmap"
           }
          ],
          "heatmapgl": [
           {
            "colorbar": {
             "outlinewidth": 0,
             "ticks": ""
            },
            "colorscale": [
             [
              0,
              "#0d0887"
             ],
             [
              0.1111111111111111,
              "#46039f"
             ],
             [
              0.2222222222222222,
              "#7201a8"
             ],
             [
              0.3333333333333333,
              "#9c179e"
             ],
             [
              0.4444444444444444,
              "#bd3786"
             ],
             [
              0.5555555555555556,
              "#d8576b"
             ],
             [
              0.6666666666666666,
              "#ed7953"
             ],
             [
              0.7777777777777778,
              "#fb9f3a"
             ],
             [
              0.8888888888888888,
              "#fdca26"
             ],
             [
              1,
              "#f0f921"
             ]
            ],
            "type": "heatmapgl"
           }
          ],
          "histogram": [
           {
            "marker": {
             "pattern": {
              "fillmode": "overlay",
              "size": 10,
              "solidity": 0.2
             }
            },
            "type": "histogram"
           }
          ],
          "histogram2d": [
           {
            "colorbar": {
             "outlinewidth": 0,
             "ticks": ""
            },
            "colorscale": [
             [
              0,
              "#0d0887"
             ],
             [
              0.1111111111111111,
              "#46039f"
             ],
             [
              0.2222222222222222,
              "#7201a8"
             ],
             [
              0.3333333333333333,
              "#9c179e"
             ],
             [
              0.4444444444444444,
              "#bd3786"
             ],
             [
              0.5555555555555556,
              "#d8576b"
             ],
             [
              0.6666666666666666,
              "#ed7953"
             ],
             [
              0.7777777777777778,
              "#fb9f3a"
             ],
             [
              0.8888888888888888,
              "#fdca26"
             ],
             [
              1,
              "#f0f921"
             ]
            ],
            "type": "histogram2d"
           }
          ],
          "histogram2dcontour": [
           {
            "colorbar": {
             "outlinewidth": 0,
             "ticks": ""
            },
            "colorscale": [
             [
              0,
              "#0d0887"
             ],
             [
              0.1111111111111111,
              "#46039f"
             ],
             [
              0.2222222222222222,
              "#7201a8"
             ],
             [
              0.3333333333333333,
              "#9c179e"
             ],
             [
              0.4444444444444444,
              "#bd3786"
             ],
             [
              0.5555555555555556,
              "#d8576b"
             ],
             [
              0.6666666666666666,
              "#ed7953"
             ],
             [
              0.7777777777777778,
              "#fb9f3a"
             ],
             [
              0.8888888888888888,
              "#fdca26"
             ],
             [
              1,
              "#f0f921"
             ]
            ],
            "type": "histogram2dcontour"
           }
          ],
          "mesh3d": [
           {
            "colorbar": {
             "outlinewidth": 0,
             "ticks": ""
            },
            "type": "mesh3d"
           }
          ],
          "parcoords": [
           {
            "line": {
             "colorbar": {
              "outlinewidth": 0,
              "ticks": ""
             }
            },
            "type": "parcoords"
           }
          ],
          "pie": [
           {
            "automargin": true,
            "type": "pie"
           }
          ],
          "scatter": [
           {
            "fillpattern": {
             "fillmode": "overlay",
             "size": 10,
             "solidity": 0.2
            },
            "type": "scatter"
           }
          ],
          "scatter3d": [
           {
            "line": {
             "colorbar": {
              "outlinewidth": 0,
              "ticks": ""
             }
            },
            "marker": {
             "colorbar": {
              "outlinewidth": 0,
              "ticks": ""
             }
            },
            "type": "scatter3d"
           }
          ],
          "scattercarpet": [
           {
            "marker": {
             "colorbar": {
              "outlinewidth": 0,
              "ticks": ""
             }
            },
            "type": "scattercarpet"
           }
          ],
          "scattergeo": [
           {
            "marker": {
             "colorbar": {
              "outlinewidth": 0,
              "ticks": ""
             }
            },
            "type": "scattergeo"
           }
          ],
          "scattergl": [
           {
            "marker": {
             "colorbar": {
              "outlinewidth": 0,
              "ticks": ""
             }
            },
            "type": "scattergl"
           }
          ],
          "scattermapbox": [
           {
            "marker": {
             "colorbar": {
              "outlinewidth": 0,
              "ticks": ""
             }
            },
            "type": "scattermapbox"
           }
          ],
          "scatterpolar": [
           {
            "marker": {
             "colorbar": {
              "outlinewidth": 0,
              "ticks": ""
             }
            },
            "type": "scatterpolar"
           }
          ],
          "scatterpolargl": [
           {
            "marker": {
             "colorbar": {
              "outlinewidth": 0,
              "ticks": ""
             }
            },
            "type": "scatterpolargl"
           }
          ],
          "scatterternary": [
           {
            "marker": {
             "colorbar": {
              "outlinewidth": 0,
              "ticks": ""
             }
            },
            "type": "scatterternary"
           }
          ],
          "surface": [
           {
            "colorbar": {
             "outlinewidth": 0,
             "ticks": ""
            },
            "colorscale": [
             [
              0,
              "#0d0887"
             ],
             [
              0.1111111111111111,
              "#46039f"
             ],
             [
              0.2222222222222222,
              "#7201a8"
             ],
             [
              0.3333333333333333,
              "#9c179e"
             ],
             [
              0.4444444444444444,
              "#bd3786"
             ],
             [
              0.5555555555555556,
              "#d8576b"
             ],
             [
              0.6666666666666666,
              "#ed7953"
             ],
             [
              0.7777777777777778,
              "#fb9f3a"
             ],
             [
              0.8888888888888888,
              "#fdca26"
             ],
             [
              1,
              "#f0f921"
             ]
            ],
            "type": "surface"
           }
          ],
          "table": [
           {
            "cells": {
             "fill": {
              "color": "#EBF0F8"
             },
             "line": {
              "color": "white"
             }
            },
            "header": {
             "fill": {
              "color": "#C8D4E3"
             },
             "line": {
              "color": "white"
             }
            },
            "type": "table"
           }
          ]
         },
         "layout": {
          "annotationdefaults": {
           "arrowcolor": "#2a3f5f",
           "arrowhead": 0,
           "arrowwidth": 1
          },
          "autotypenumbers": "strict",
          "coloraxis": {
           "colorbar": {
            "outlinewidth": 0,
            "ticks": ""
           }
          },
          "colorscale": {
           "diverging": [
            [
             0,
             "#8e0152"
            ],
            [
             0.1,
             "#c51b7d"
            ],
            [
             0.2,
             "#de77ae"
            ],
            [
             0.3,
             "#f1b6da"
            ],
            [
             0.4,
             "#fde0ef"
            ],
            [
             0.5,
             "#f7f7f7"
            ],
            [
             0.6,
             "#e6f5d0"
            ],
            [
             0.7,
             "#b8e186"
            ],
            [
             0.8,
             "#7fbc41"
            ],
            [
             0.9,
             "#4d9221"
            ],
            [
             1,
             "#276419"
            ]
           ],
           "sequential": [
            [
             0,
             "#0d0887"
            ],
            [
             0.1111111111111111,
             "#46039f"
            ],
            [
             0.2222222222222222,
             "#7201a8"
            ],
            [
             0.3333333333333333,
             "#9c179e"
            ],
            [
             0.4444444444444444,
             "#bd3786"
            ],
            [
             0.5555555555555556,
             "#d8576b"
            ],
            [
             0.6666666666666666,
             "#ed7953"
            ],
            [
             0.7777777777777778,
             "#fb9f3a"
            ],
            [
             0.8888888888888888,
             "#fdca26"
            ],
            [
             1,
             "#f0f921"
            ]
           ],
           "sequentialminus": [
            [
             0,
             "#0d0887"
            ],
            [
             0.1111111111111111,
             "#46039f"
            ],
            [
             0.2222222222222222,
             "#7201a8"
            ],
            [
             0.3333333333333333,
             "#9c179e"
            ],
            [
             0.4444444444444444,
             "#bd3786"
            ],
            [
             0.5555555555555556,
             "#d8576b"
            ],
            [
             0.6666666666666666,
             "#ed7953"
            ],
            [
             0.7777777777777778,
             "#fb9f3a"
            ],
            [
             0.8888888888888888,
             "#fdca26"
            ],
            [
             1,
             "#f0f921"
            ]
           ]
          },
          "colorway": [
           "#636efa",
           "#EF553B",
           "#00cc96",
           "#ab63fa",
           "#FFA15A",
           "#19d3f3",
           "#FF6692",
           "#B6E880",
           "#FF97FF",
           "#FECB52"
          ],
          "font": {
           "color": "#2a3f5f"
          },
          "geo": {
           "bgcolor": "white",
           "lakecolor": "white",
           "landcolor": "#E5ECF6",
           "showlakes": true,
           "showland": true,
           "subunitcolor": "white"
          },
          "hoverlabel": {
           "align": "left"
          },
          "hovermode": "closest",
          "mapbox": {
           "style": "light"
          },
          "paper_bgcolor": "white",
          "plot_bgcolor": "#E5ECF6",
          "polar": {
           "angularaxis": {
            "gridcolor": "white",
            "linecolor": "white",
            "ticks": ""
           },
           "bgcolor": "#E5ECF6",
           "radialaxis": {
            "gridcolor": "white",
            "linecolor": "white",
            "ticks": ""
           }
          },
          "scene": {
           "xaxis": {
            "backgroundcolor": "#E5ECF6",
            "gridcolor": "white",
            "gridwidth": 2,
            "linecolor": "white",
            "showbackground": true,
            "ticks": "",
            "zerolinecolor": "white"
           },
           "yaxis": {
            "backgroundcolor": "#E5ECF6",
            "gridcolor": "white",
            "gridwidth": 2,
            "linecolor": "white",
            "showbackground": true,
            "ticks": "",
            "zerolinecolor": "white"
           },
           "zaxis": {
            "backgroundcolor": "#E5ECF6",
            "gridcolor": "white",
            "gridwidth": 2,
            "linecolor": "white",
            "showbackground": true,
            "ticks": "",
            "zerolinecolor": "white"
           }
          },
          "shapedefaults": {
           "line": {
            "color": "#2a3f5f"
           }
          },
          "ternary": {
           "aaxis": {
            "gridcolor": "white",
            "linecolor": "white",
            "ticks": ""
           },
           "baxis": {
            "gridcolor": "white",
            "linecolor": "white",
            "ticks": ""
           },
           "bgcolor": "#E5ECF6",
           "caxis": {
            "gridcolor": "white",
            "linecolor": "white",
            "ticks": ""
           }
          },
          "title": {
           "x": 0.05
          },
          "xaxis": {
           "automargin": true,
           "gridcolor": "white",
           "linecolor": "white",
           "ticks": "",
           "title": {
            "standoff": 15
           },
           "zerolinecolor": "white",
           "zerolinewidth": 2
          },
          "yaxis": {
           "automargin": true,
           "gridcolor": "white",
           "linecolor": "white",
           "ticks": "",
           "title": {
            "standoff": 15
           },
           "zerolinecolor": "white",
           "zerolinewidth": 2
          }
         }
        },
        "title": {
         "text": "COVID-19 Cases by Location"
        },
        "xaxis": {
         "title": {
          "text": "Location"
         }
        },
        "yaxis": {
         "title": {
          "text": "Count"
         }
        }
       }
      }
     },
     "metadata": {},
     "output_type": "display_data"
    }
   ],
   "source": [
    "import plotly.graph_objs as go\n",
    "grouped_df = df.groupby('location')[['totalConfirmedCases', 'totalDeaths', 'totalRecoveredCases']].sum().reset_index()\n",
    "trace_confirmed = go.Bar(x=grouped_df['location'], y=grouped_df['totalConfirmedCases'], name='Total Confirmed Cases')\n",
    "trace_deaths = go.Bar(x=grouped_df['location'], y=grouped_df['totalDeaths'], name='Total Deaths')\n",
    "trace_recovered = go.Bar(x=grouped_df['location'], y=grouped_df['totalRecoveredCases'], name='Total Recovered Cases')\n",
    "layout = go.Layout(title='COVID-19 Cases by Location',\n",
    "                   xaxis=dict(title='Location'),\n",
    "                   yaxis=dict(title='Count'),\n",
    "                   barmode='group')\n",
    "fig = go.Figure(data=[trace_confirmed, trace_deaths, trace_recovered], layout=layout)\n",
    "fig.write_image('images/COVID-19 Cases by Location.jpeg')\n",
    "fig.show()"
   ]
  },
  {
   "cell_type": "code",
   "execution_count": 4,
   "metadata": {},
   "outputs": [
    {
     "data": {
      "application/vnd.plotly.v1+json": {
       "config": {
        "plotlyServerURL": "https://plot.ly"
       },
       "data": [
        {
         "name": "Total Confirmed Cases",
         "type": "bar",
         "x": [
          "Brazil",
          "India",
          "Russia",
          "United Kingdom",
          "United States"
         ],
         "y": [
          10393886,
          11063491,
          4212100,
          4154562,
          28089251
         ]
        },
        {
         "name": "Total Deaths",
         "type": "bar",
         "x": [
          "Brazil",
          "India",
          "Russia",
          "United Kingdom",
          "United States"
         ],
         "y": [
          251661,
          156861,
          84876,
          122070,
          514334
         ]
        },
        {
         "name": "Total Recovered Cases",
         "type": "bar",
         "x": [
          "Brazil",
          "India",
          "Russia",
          "United Kingdom",
          "United States"
         ],
         "y": [
          9323696,
          10750680,
          3767664,
          2727466,
          2796278
         ]
        }
       ],
       "layout": {
        "barmode": "stack",
        "template": {
         "data": {
          "bar": [
           {
            "error_x": {
             "color": "#2a3f5f"
            },
            "error_y": {
             "color": "#2a3f5f"
            },
            "marker": {
             "line": {
              "color": "#E5ECF6",
              "width": 0.5
             },
             "pattern": {
              "fillmode": "overlay",
              "size": 10,
              "solidity": 0.2
             }
            },
            "type": "bar"
           }
          ],
          "barpolar": [
           {
            "marker": {
             "line": {
              "color": "#E5ECF6",
              "width": 0.5
             },
             "pattern": {
              "fillmode": "overlay",
              "size": 10,
              "solidity": 0.2
             }
            },
            "type": "barpolar"
           }
          ],
          "carpet": [
           {
            "aaxis": {
             "endlinecolor": "#2a3f5f",
             "gridcolor": "white",
             "linecolor": "white",
             "minorgridcolor": "white",
             "startlinecolor": "#2a3f5f"
            },
            "baxis": {
             "endlinecolor": "#2a3f5f",
             "gridcolor": "white",
             "linecolor": "white",
             "minorgridcolor": "white",
             "startlinecolor": "#2a3f5f"
            },
            "type": "carpet"
           }
          ],
          "choropleth": [
           {
            "colorbar": {
             "outlinewidth": 0,
             "ticks": ""
            },
            "type": "choropleth"
           }
          ],
          "contour": [
           {
            "colorbar": {
             "outlinewidth": 0,
             "ticks": ""
            },
            "colorscale": [
             [
              0,
              "#0d0887"
             ],
             [
              0.1111111111111111,
              "#46039f"
             ],
             [
              0.2222222222222222,
              "#7201a8"
             ],
             [
              0.3333333333333333,
              "#9c179e"
             ],
             [
              0.4444444444444444,
              "#bd3786"
             ],
             [
              0.5555555555555556,
              "#d8576b"
             ],
             [
              0.6666666666666666,
              "#ed7953"
             ],
             [
              0.7777777777777778,
              "#fb9f3a"
             ],
             [
              0.8888888888888888,
              "#fdca26"
             ],
             [
              1,
              "#f0f921"
             ]
            ],
            "type": "contour"
           }
          ],
          "contourcarpet": [
           {
            "colorbar": {
             "outlinewidth": 0,
             "ticks": ""
            },
            "type": "contourcarpet"
           }
          ],
          "heatmap": [
           {
            "colorbar": {
             "outlinewidth": 0,
             "ticks": ""
            },
            "colorscale": [
             [
              0,
              "#0d0887"
             ],
             [
              0.1111111111111111,
              "#46039f"
             ],
             [
              0.2222222222222222,
              "#7201a8"
             ],
             [
              0.3333333333333333,
              "#9c179e"
             ],
             [
              0.4444444444444444,
              "#bd3786"
             ],
             [
              0.5555555555555556,
              "#d8576b"
             ],
             [
              0.6666666666666666,
              "#ed7953"
             ],
             [
              0.7777777777777778,
              "#fb9f3a"
             ],
             [
              0.8888888888888888,
              "#fdca26"
             ],
             [
              1,
              "#f0f921"
             ]
            ],
            "type": "heatmap"
           }
          ],
          "heatmapgl": [
           {
            "colorbar": {
             "outlinewidth": 0,
             "ticks": ""
            },
            "colorscale": [
             [
              0,
              "#0d0887"
             ],
             [
              0.1111111111111111,
              "#46039f"
             ],
             [
              0.2222222222222222,
              "#7201a8"
             ],
             [
              0.3333333333333333,
              "#9c179e"
             ],
             [
              0.4444444444444444,
              "#bd3786"
             ],
             [
              0.5555555555555556,
              "#d8576b"
             ],
             [
              0.6666666666666666,
              "#ed7953"
             ],
             [
              0.7777777777777778,
              "#fb9f3a"
             ],
             [
              0.8888888888888888,
              "#fdca26"
             ],
             [
              1,
              "#f0f921"
             ]
            ],
            "type": "heatmapgl"
           }
          ],
          "histogram": [
           {
            "marker": {
             "pattern": {
              "fillmode": "overlay",
              "size": 10,
              "solidity": 0.2
             }
            },
            "type": "histogram"
           }
          ],
          "histogram2d": [
           {
            "colorbar": {
             "outlinewidth": 0,
             "ticks": ""
            },
            "colorscale": [
             [
              0,
              "#0d0887"
             ],
             [
              0.1111111111111111,
              "#46039f"
             ],
             [
              0.2222222222222222,
              "#7201a8"
             ],
             [
              0.3333333333333333,
              "#9c179e"
             ],
             [
              0.4444444444444444,
              "#bd3786"
             ],
             [
              0.5555555555555556,
              "#d8576b"
             ],
             [
              0.6666666666666666,
              "#ed7953"
             ],
             [
              0.7777777777777778,
              "#fb9f3a"
             ],
             [
              0.8888888888888888,
              "#fdca26"
             ],
             [
              1,
              "#f0f921"
             ]
            ],
            "type": "histogram2d"
           }
          ],
          "histogram2dcontour": [
           {
            "colorbar": {
             "outlinewidth": 0,
             "ticks": ""
            },
            "colorscale": [
             [
              0,
              "#0d0887"
             ],
             [
              0.1111111111111111,
              "#46039f"
             ],
             [
              0.2222222222222222,
              "#7201a8"
             ],
             [
              0.3333333333333333,
              "#9c179e"
             ],
             [
              0.4444444444444444,
              "#bd3786"
             ],
             [
              0.5555555555555556,
              "#d8576b"
             ],
             [
              0.6666666666666666,
              "#ed7953"
             ],
             [
              0.7777777777777778,
              "#fb9f3a"
             ],
             [
              0.8888888888888888,
              "#fdca26"
             ],
             [
              1,
              "#f0f921"
             ]
            ],
            "type": "histogram2dcontour"
           }
          ],
          "mesh3d": [
           {
            "colorbar": {
             "outlinewidth": 0,
             "ticks": ""
            },
            "type": "mesh3d"
           }
          ],
          "parcoords": [
           {
            "line": {
             "colorbar": {
              "outlinewidth": 0,
              "ticks": ""
             }
            },
            "type": "parcoords"
           }
          ],
          "pie": [
           {
            "automargin": true,
            "type": "pie"
           }
          ],
          "scatter": [
           {
            "fillpattern": {
             "fillmode": "overlay",
             "size": 10,
             "solidity": 0.2
            },
            "type": "scatter"
           }
          ],
          "scatter3d": [
           {
            "line": {
             "colorbar": {
              "outlinewidth": 0,
              "ticks": ""
             }
            },
            "marker": {
             "colorbar": {
              "outlinewidth": 0,
              "ticks": ""
             }
            },
            "type": "scatter3d"
           }
          ],
          "scattercarpet": [
           {
            "marker": {
             "colorbar": {
              "outlinewidth": 0,
              "ticks": ""
             }
            },
            "type": "scattercarpet"
           }
          ],
          "scattergeo": [
           {
            "marker": {
             "colorbar": {
              "outlinewidth": 0,
              "ticks": ""
             }
            },
            "type": "scattergeo"
           }
          ],
          "scattergl": [
           {
            "marker": {
             "colorbar": {
              "outlinewidth": 0,
              "ticks": ""
             }
            },
            "type": "scattergl"
           }
          ],
          "scattermapbox": [
           {
            "marker": {
             "colorbar": {
              "outlinewidth": 0,
              "ticks": ""
             }
            },
            "type": "scattermapbox"
           }
          ],
          "scatterpolar": [
           {
            "marker": {
             "colorbar": {
              "outlinewidth": 0,
              "ticks": ""
             }
            },
            "type": "scatterpolar"
           }
          ],
          "scatterpolargl": [
           {
            "marker": {
             "colorbar": {
              "outlinewidth": 0,
              "ticks": ""
             }
            },
            "type": "scatterpolargl"
           }
          ],
          "scatterternary": [
           {
            "marker": {
             "colorbar": {
              "outlinewidth": 0,
              "ticks": ""
             }
            },
            "type": "scatterternary"
           }
          ],
          "surface": [
           {
            "colorbar": {
             "outlinewidth": 0,
             "ticks": ""
            },
            "colorscale": [
             [
              0,
              "#0d0887"
             ],
             [
              0.1111111111111111,
              "#46039f"
             ],
             [
              0.2222222222222222,
              "#7201a8"
             ],
             [
              0.3333333333333333,
              "#9c179e"
             ],
             [
              0.4444444444444444,
              "#bd3786"
             ],
             [
              0.5555555555555556,
              "#d8576b"
             ],
             [
              0.6666666666666666,
              "#ed7953"
             ],
             [
              0.7777777777777778,
              "#fb9f3a"
             ],
             [
              0.8888888888888888,
              "#fdca26"
             ],
             [
              1,
              "#f0f921"
             ]
            ],
            "type": "surface"
           }
          ],
          "table": [
           {
            "cells": {
             "fill": {
              "color": "#EBF0F8"
             },
             "line": {
              "color": "white"
             }
            },
            "header": {
             "fill": {
              "color": "#C8D4E3"
             },
             "line": {
              "color": "white"
             }
            },
            "type": "table"
           }
          ]
         },
         "layout": {
          "annotationdefaults": {
           "arrowcolor": "#2a3f5f",
           "arrowhead": 0,
           "arrowwidth": 1
          },
          "autotypenumbers": "strict",
          "coloraxis": {
           "colorbar": {
            "outlinewidth": 0,
            "ticks": ""
           }
          },
          "colorscale": {
           "diverging": [
            [
             0,
             "#8e0152"
            ],
            [
             0.1,
             "#c51b7d"
            ],
            [
             0.2,
             "#de77ae"
            ],
            [
             0.3,
             "#f1b6da"
            ],
            [
             0.4,
             "#fde0ef"
            ],
            [
             0.5,
             "#f7f7f7"
            ],
            [
             0.6,
             "#e6f5d0"
            ],
            [
             0.7,
             "#b8e186"
            ],
            [
             0.8,
             "#7fbc41"
            ],
            [
             0.9,
             "#4d9221"
            ],
            [
             1,
             "#276419"
            ]
           ],
           "sequential": [
            [
             0,
             "#0d0887"
            ],
            [
             0.1111111111111111,
             "#46039f"
            ],
            [
             0.2222222222222222,
             "#7201a8"
            ],
            [
             0.3333333333333333,
             "#9c179e"
            ],
            [
             0.4444444444444444,
             "#bd3786"
            ],
            [
             0.5555555555555556,
             "#d8576b"
            ],
            [
             0.6666666666666666,
             "#ed7953"
            ],
            [
             0.7777777777777778,
             "#fb9f3a"
            ],
            [
             0.8888888888888888,
             "#fdca26"
            ],
            [
             1,
             "#f0f921"
            ]
           ],
           "sequentialminus": [
            [
             0,
             "#0d0887"
            ],
            [
             0.1111111111111111,
             "#46039f"
            ],
            [
             0.2222222222222222,
             "#7201a8"
            ],
            [
             0.3333333333333333,
             "#9c179e"
            ],
            [
             0.4444444444444444,
             "#bd3786"
            ],
            [
             0.5555555555555556,
             "#d8576b"
            ],
            [
             0.6666666666666666,
             "#ed7953"
            ],
            [
             0.7777777777777778,
             "#fb9f3a"
            ],
            [
             0.8888888888888888,
             "#fdca26"
            ],
            [
             1,
             "#f0f921"
            ]
           ]
          },
          "colorway": [
           "#636efa",
           "#EF553B",
           "#00cc96",
           "#ab63fa",
           "#FFA15A",
           "#19d3f3",
           "#FF6692",
           "#B6E880",
           "#FF97FF",
           "#FECB52"
          ],
          "font": {
           "color": "#2a3f5f"
          },
          "geo": {
           "bgcolor": "white",
           "lakecolor": "white",
           "landcolor": "#E5ECF6",
           "showlakes": true,
           "showland": true,
           "subunitcolor": "white"
          },
          "hoverlabel": {
           "align": "left"
          },
          "hovermode": "closest",
          "mapbox": {
           "style": "light"
          },
          "paper_bgcolor": "white",
          "plot_bgcolor": "#E5ECF6",
          "polar": {
           "angularaxis": {
            "gridcolor": "white",
            "linecolor": "white",
            "ticks": ""
           },
           "bgcolor": "#E5ECF6",
           "radialaxis": {
            "gridcolor": "white",
            "linecolor": "white",
            "ticks": ""
           }
          },
          "scene": {
           "xaxis": {
            "backgroundcolor": "#E5ECF6",
            "gridcolor": "white",
            "gridwidth": 2,
            "linecolor": "white",
            "showbackground": true,
            "ticks": "",
            "zerolinecolor": "white"
           },
           "yaxis": {
            "backgroundcolor": "#E5ECF6",
            "gridcolor": "white",
            "gridwidth": 2,
            "linecolor": "white",
            "showbackground": true,
            "ticks": "",
            "zerolinecolor": "white"
           },
           "zaxis": {
            "backgroundcolor": "#E5ECF6",
            "gridcolor": "white",
            "gridwidth": 2,
            "linecolor": "white",
            "showbackground": true,
            "ticks": "",
            "zerolinecolor": "white"
           }
          },
          "shapedefaults": {
           "line": {
            "color": "#2a3f5f"
           }
          },
          "ternary": {
           "aaxis": {
            "gridcolor": "white",
            "linecolor": "white",
            "ticks": ""
           },
           "baxis": {
            "gridcolor": "white",
            "linecolor": "white",
            "ticks": ""
           },
           "bgcolor": "#E5ECF6",
           "caxis": {
            "gridcolor": "white",
            "linecolor": "white",
            "ticks": ""
           }
          },
          "title": {
           "x": 0.05
          },
          "xaxis": {
           "automargin": true,
           "gridcolor": "white",
           "linecolor": "white",
           "ticks": "",
           "title": {
            "standoff": 15
           },
           "zerolinecolor": "white",
           "zerolinewidth": 2
          },
          "yaxis": {
           "automargin": true,
           "gridcolor": "white",
           "linecolor": "white",
           "ticks": "",
           "title": {
            "standoff": 15
           },
           "zerolinecolor": "white",
           "zerolinewidth": 2
          }
         }
        },
        "title": {
         "text": "COVID-19 Cases Distribution by Location (Total Confirmed Cases > 4 Million)"
        },
        "xaxis": {
         "title": {
          "text": "Location"
         }
        },
        "yaxis": {
         "title": {
          "text": "Count"
         }
        }
       }
      }
     },
     "metadata": {},
     "output_type": "display_data"
    }
   ],
   "source": [
    "import plotly.graph_objs as go\n",
    "grouped_df = df.groupby('location')[['totalConfirmedCases', 'totalDeaths', 'totalRecoveredCases']].sum().reset_index()\n",
    "grouped_df_filtered = grouped_df[grouped_df['totalConfirmedCases'] > 4000000]\n",
    "trace_confirmed = go.Bar(x=grouped_df_filtered['location'], y=grouped_df_filtered['totalConfirmedCases'], name='Total Confirmed Cases')\n",
    "trace_deaths = go.Bar(x=grouped_df_filtered['location'], y=grouped_df_filtered['totalDeaths'], name='Total Deaths')\n",
    "trace_recovered = go.Bar(x=grouped_df_filtered['location'], y=grouped_df_filtered['totalRecoveredCases'], name='Total Recovered Cases')\n",
    "layout = go.Layout(title='COVID-19 Cases Distribution by Location (Total Confirmed Cases > 4 Million)',\n",
    "                   xaxis=dict(title='Location'),\n",
    "                   yaxis=dict(title='Count'),\n",
    "                   barmode='stack')\n",
    "fig = go.Figure(data=[trace_confirmed, trace_deaths, trace_recovered], layout=layout)\n",
    "fig.show()"
   ]
  },
  {
   "cell_type": "markdown",
   "metadata": {},
   "source": [
    "Top 20 countries with the most covid cases."
   ]
  },
  {
   "cell_type": "code",
   "execution_count": 5,
   "metadata": {},
   "outputs": [
    {
     "data": {
      "image/png": "[encoded data removed]",
      "text/plain": [
       "<Figure size 500x400 with 1 Axes>"
      ]
     },
     "metadata": {},
     "output_type": "display_data"
    }
   ],
   "source": [
    "cases_by_country = df.groupby('location').sum()['totalConfirmedCases'].sort_values(ascending=False).head(20)\n",
    "plt.figure(figsize=(5, 4))\n",
    "cases_by_country.plot(kind='bar')\n",
    "plt.title('20 Countries with the Most COVID Cases around the World.')\n",
    "plt.xlabel('List of Countries')\n",
    "plt.ylabel('TOtal Confirmed Cases')\n",
    "plt.xticks(rotation=45, ha='right')\n",
    "plt.tight_layout()\n",
    "plt.savefig('images/Top 20 Countries with most Covid cases.jpeg')\n",
    "plt.show()"
   ]
  },
  {
   "cell_type": "markdown",
   "metadata": {},
   "source": [
    "Top 20 countries with the least covid cases."
   ]
  },
  {
   "cell_type": "code",
   "execution_count": 6,
   "metadata": {},
   "outputs": [
    {
     "data": {
      "image/png": "[encoded data removed]",
      "text/plain": [
       "<Figure size 500x400 with 1 Axes>"
      ]
     },
     "metadata": {},
     "output_type": "display_data"
    }
   ],
   "source": [
    "cases_by_country = df.groupby('location').sum()['totalConfirmedCases'].sort_values(ascending=True).head(20)\n",
    "# Plotting\n",
    "plt.figure(figsize=(5, 4))\n",
    "cases_by_country.plot(kind='bar')\n",
    "plt.title('20 Countries with the Least COVID Cases.')\n",
    "plt.xlabel('List of Countries')\n",
    "plt.ylabel('TOtal Confirmed Cases')\n",
    "plt.xticks(rotation=45, ha='right')\n",
    "plt.tight_layout()\n",
    "plt.savefig('images/20 Countries with Least Covid cases.jpeg')\n",
    "plt.show()"
   ]
  },
  {
   "cell_type": "markdown",
   "metadata": {},
   "source": [
    "Top 20 countries with the Highest covid casualties."
   ]
  },
  {
   "cell_type": "code",
   "execution_count": 7,
   "metadata": {},
   "outputs": [
    {
     "data": {
      "image/png": "[encoded data removed]",
      "text/plain": [
       "<Figure size 500x400 with 1 Axes>"
      ]
     },
     "metadata": {},
     "output_type": "display_data"
    }
   ],
   "source": [
    "cases_by_country = df.groupby('location').sum()['totalDeaths'].sort_values(ascending=False).head(20)\n",
    "# Plotting\n",
    "plt.figure(figsize=(5, 4))\n",
    "cases_by_country.plot(kind='bar')\n",
    "plt.title('20 Countries with the Highest COVID-19 Casualties around the World.')\n",
    "plt.xlabel('List of Countries')\n",
    "plt.ylabel('TOtal Deaths')\n",
    "plt.xticks(rotation=45, ha='right')\n",
    "plt.tight_layout()\n",
    "plt.savefig('images/Top 20 Countries with most Covid casualties.jpeg')\n",
    "plt.show()"
   ]
  },
  {
   "cell_type": "markdown",
   "metadata": {},
   "source": [
    "Top 20 countries with the Least covid casualties."
   ]
  },
  {
   "cell_type": "code",
   "execution_count": 8,
   "metadata": {},
   "outputs": [
    {
     "data": {
      "image/png": "[encoded data removed]",
      "text/plain": [
       "<Figure size 500x400 with 1 Axes>"
      ]
     },
     "metadata": {},
     "output_type": "display_data"
    }
   ],
   "source": [
    "cases_by_country = df.groupby('location').sum()['totalDeaths'].sort_values(ascending=True).iloc[40:60]\n",
    "# Plotting\n",
    "plt.figure(figsize=(5, 4))\n",
    "cases_by_country.plot(kind='bar')\n",
    "plt.title('20 Countries with the Least COVID-19 Casualties around the World.')\n",
    "plt.xlabel('List of Countries')\n",
    "plt.ylabel('TOtal Deaths')\n",
    "plt.xticks(rotation=45, ha='right')\n",
    "plt.tight_layout()\n",
    "plt.savefig('images/Top 20 Countries with least Covid casualties.jpeg')\n",
    "plt.show()"
   ]
  },
  {
   "cell_type": "markdown",
   "metadata": {},
   "source": [
    "Top 20 countries with the Highest covid Recoveries."
   ]
  },
  {
   "cell_type": "code",
   "execution_count": 9,
   "metadata": {},
   "outputs": [
    {
     "data": {
      "image/png": "[encoded data removed]",
      "text/plain": [
       "<Figure size 500x400 with 1 Axes>"
      ]
     },
     "metadata": {},
     "output_type": "display_data"
    }
   ],
   "source": [
    "cases_by_country = df.groupby('location').sum()['totalDeaths'].sort_values(ascending=False).head(20)\n",
    "# Plotting\n",
    "plt.figure(figsize=(5, 4))\n",
    "cases_by_country.plot(kind='bar')\n",
    "plt.title('20 Countries with the Highest COVID-19 Recoveries around the World.')\n",
    "plt.xlabel('List of Countries')\n",
    "plt.ylabel('TOtal Recoveries')\n",
    "plt.xticks(rotation=45, ha='right')\n",
    "plt.tight_layout()\n",
    "plt.savefig('images/Top 20 Countries with most Covid Recoveries.jpeg')\n",
    "plt.show()"
   ]
  },
  {
   "cell_type": "markdown",
   "metadata": {},
   "source": [
    "Top 20 countries with the Least covid Recoveries."
   ]
  },
  {
   "cell_type": "code",
   "execution_count": 10,
   "metadata": {},
   "outputs": [
    {
     "data": {
      "image/png": "[encoded data removed]",
      "text/plain": [
       "<Figure size 500x400 with 1 Axes>"
      ]
     },
     "metadata": {},
     "output_type": "display_data"
    }
   ],
   "source": [
    "cases_by_country = df.groupby('location').sum()['totalDeaths'].sort_values(ascending=True).iloc[40:60]\n",
    "# Plotting\n",
    "plt.figure(figsize=(5, 4))\n",
    "cases_by_country.plot(kind='bar')\n",
    "plt.title('20 Countries with Least COVID-19 Recoveries')\n",
    "plt.xlabel('List of Countries (40-60)')\n",
    "plt.ylabel('Total Recoveries')\n",
    "plt.xticks(rotation=45, ha='right')\n",
    "plt.tight_layout()\n",
    "plt.savefig('images/20 Countries with Least COVID Recoveries.jpeg')\n",
    "plt.show()\n"
   ]
  },
  {
   "cell_type": "markdown",
   "metadata": {},
   "source": [
    "Lets create the world map."
   ]
  },
  {
   "cell_type": "code",
   "execution_count": 11,
   "metadata": {},
   "outputs": [
    {
     "data": {
      "application/vnd.plotly.v1+json": {
       "config": {
        "plotlyServerURL": "https://plot.ly"
       },
       "data": [
        {
         "coloraxis": "coloraxis",
         "customdata": [
          [
           55696,
           16,
           2442,
           4,
           49281,
           195
          ],
          [
           104313,
           986,
           1736,
           21,
           67158,
           849
          ],
          [
           112622,
           161,
           2973,
           3,
           77683,
           146
          ],
          [
           10799,
           24,
           110,
           0,
           10356,
           37
          ],
          [
           20695,
           55,
           502,
           1,
           19238,
           17
          ],
          [
           18,
           0,
           0,
           0,
           18,
           0
          ],
          [
           701,
           55,
           14,
           0,
           271,
           38
          ],
          [
           2093645,
           8234,
           51795,
           145,
           1886732,
           4164
          ],
          [
           171227,
           0,
           3179,
           0,
           162984,
           0
          ],
          [
           7804,
           29,
           71,
           0,
           7494,
           58
          ],
          [
           6991,
           0,
           98,
           0,
           6301,
           0
          ],
          [
           452767,
           2391,
           8493,
           23,
           425786,
           1438
          ],
          [
           233770,
           126,
           3209,
           3,
           228299,
           142
          ],
          [
           94,
           0,
           11,
           0,
           41,
           0
          ],
          [
           120495,
           637,
           439,
           2,
           113132,
           809
          ],
          [
           544954,
           410,
           8384,
           5,
           494755,
           957
          ],
          [
           2949,
           42,
           32,
           0,
           2171,
           79
          ],
          [
           282898,
           1191,
           1948,
           9,
           273146,
           1413
          ],
          [
           763885,
           3076,
           22006,
           18,
           52091,
           145
          ],
          [
           12280,
           9,
           315,
           0,
           11824,
           8
          ],
          [
           5434,
           0,
           70,
           0,
           4248,
           0
          ],
          [
           705,
           2,
           12,
           0,
           682,
           1
          ],
          [
           867,
           0,
           1,
           0,
           862,
           0
          ],
          [
           246822,
           1103,
           11577,
           30,
           191081,
           1249
          ],
          [
           130510,
           757,
           5062,
           11,
           114995,
           634
          ],
          [
           28371,
           650,
           310,
           10,
           23244,
           471
          ],
          [
           10393886,
           67878,
           251661,
           1582,
           9323696,
           42678
          ],
          [
           114,
           0,
           1,
           0,
           95,
           0
          ],
          [
           185,
           0,
           3,
           0,
           178,
           0
          ],
          [
           243946,
           1822,
           10079,
           53,
           202694,
           689
          ],
          [
           11914,
           27,
           142,
           0,
           11340,
           20
          ],
          [
           181,
           0,
           6,
           0,
           84,
           0
          ],
          [
           15201,
           40,
           145,
           0,
           14694,
           56
          ],
          [
           741,
           44,
           0,
           0,
           477,
           0
          ],
          [
           35714,
           1965,
           551,
           28,
           32594,
           1232
          ],
          [
           863496,
           3146,
           21868,
           58,
           819761,
           3101
          ],
          [
           1,
           0,
           0,
           0,
           0,
           0
          ],
          [
           1,
           0,
           0,
           0,
           0,
           0
          ],
          [
           438,
           7,
           2,
           0,
           405,
           0
          ],
          [
           5004,
           0,
           63,
           0,
           4920,
           0
          ],
          [
           3934,
           30,
           137,
           1,
           3420,
           22
          ],
          [
           4032,
           1,
           86,
           0,
           3893,
           0
          ],
          [
           812344,
           4472,
           20310,
           137,
           770190,
           2858
          ],
          [
           93904,
           13,
           4831,
           0,
           89558,
           13
          ],
          [
           2241225,
           3683,
           59396,
           136,
           2138193,
           4139
          ],
          [
           203914,
           418,
           2796,
           3,
           175883,
           1787
          ],
          [
           32295,
           0,
           188,
           0,
           31224,
           0
          ],
          [
           241592,
           544,
           5489,
           12,
           233170,
           278
          ],
          [
           712,
           0,
           13,
           0,
           699,
           0
          ],
          [
           47566,
           670,
           312,
           4,
           42809,
           906
          ],
          [
           4708,
           3,
           22,
           0,
           4624,
           4
          ],
          [
           33909,
           199,
           231,
           0,
           2057,
           0
          ],
          [
           1198168,
           0,
           19835,
           0,
           1046575,
           0
          ],
          [
           25144,
           0,
           700,
           0,
           16135,
           0
          ],
          [
           209682,
           603,
           2351,
           6,
           201154,
           439
          ],
          [
           6060,
           8,
           63,
           0,
           5892,
           6
          ],
          [
           142,
           1,
           0,
           0,
           127,
           1
          ],
          [
           237629,
           746,
           3075,
           9,
           188300,
           878
          ],
          [
           1,
           0,
           0,
           0,
           0,
           0
          ],
          [
           281169,
           2390,
           15669,
           35,
           238817,
           0
          ],
          [
           180640,
           589,
           10541,
           46,
           139494,
           422
          ],
          [
           59866,
           631,
           1832,
           0,
           55312,
           988
          ],
          [
           5852,
           0,
           91,
           0,
           5559,
           0
          ],
          [
           2826,
           37,
           7,
           0,
           2225,
           52
          ],
          [
           61627,
           1152,
           567,
           10,
           47460,
           321
          ],
          [
           16946,
           49,
           650,
           1,
           14031,
           230
          ],
          [
           156112,
           878,
           2321,
           5,
           133607,
           169
          ],
          [
           658,
           0,
           1,
           0,
           656,
           0
          ],
          [
           187,
           0,
           0,
           0,
           187,
           0
          ],
          [
           5,
           0,
           0,
           0,
           0,
           0
          ],
          [
           57,
           0,
           2,
           0,
           54,
           0
          ],
          [
           55687,
           565,
           740,
           3,
           40000,
           0
          ],
          [
           3686813,
           25403,
           85582,
           261,
           254868,
           1418
          ],
          [
           16529,
           0,
           83,
           0,
           9995,
           0
          ],
          [
           18379,
           9,
           139,
           0,
           4842,
           0
          ],
          [
           14234,
           0,
           80,
           0,
           12846,
           0
          ],
          [
           23,
           0,
           1,
           0,
           10,
           0
          ],
          [
           269800,
           0,
           3475,
           0,
           263727,
           0
          ],
          [
           2426819,
           10782,
           70003,
           393,
           2226500,
           0
          ],
          [
           81673,
           428,
           588,
           4,
           74681,
           634
          ],
          [
           4235,
           1,
           92,
           1,
           4119,
           6
          ],
          [
           186469,
           1783,
           6410,
           39,
           165095,
           1194
          ],
          [
           30,
           0,
           0,
           0,
           30,
           0
          ],
          [
           148,
           0,
           1,
           0,
           147,
           0
          ],
          [
           9746,
           0,
           159,
           0,
           2242,
           0
          ],
          [
           28089251,
           73964,
           514334,
           2089,
           2796278,
           0
          ],
          [
           173142,
           378,
           6334,
           7,
           160047,
           192
          ],
          [
           1,
           0,
           0,
           0,
           0,
           0
          ],
          [
           15789,
           109,
           88,
           0,
           14821,
           23
          ],
          [
           3215,
           44,
           48,
           0,
           2587,
           9
          ],
          [
           8485,
           28,
           195,
           3,
           7890,
           56
          ],
          [
           12390,
           38,
           248,
           1,
           9611,
           41
          ],
          [
           27,
           0,
           0,
           0,
           15,
           0
          ],
          [
           168243,
           749,
           4099,
           23,
           65425,
           437
          ],
          [
           414514,
           4385,
           14672,
           120,
           315781,
           2331
          ],
          [
           6049,
           0,
           29,
           0,
           6005,
           1
          ],
          [
           11063491,
           16577,
           156861,
           119,
           10750680,
           12179
          ],
          [
           1314634,
           8493,
           35518,
           264,
           1121411,
           8686
          ],
          [
           1607081,
           8206,
           59830,
           94,
           1372308,
           7055
          ],
          [
           684362,
           4074,
           13351,
           27,
           627718,
           2271
          ],
          [
           217478,
           608,
           4271,
           34,
           23364,
           0
          ],
          [
           475,
           5,
           25,
           0,
           451,
           0
          ],
          [
           767726,
           3970,
           5687,
           27,
           722534,
           4612
          ],
          [
           2868435,
           19871,
           96974,
           308,
           2375318,
           12853
          ],
          [
           22267,
           248,
           410,
           4,
           13173,
           66
          ],
          [
           428553,
           1086,
           7647,
           63,
           405257,
           1876
          ],
          [
           2,
           0,
           0,
           0,
           0,
           0
          ],
          [
           380268,
           3827,
           4627,
           16,
           342600,
           1579
          ],
          [
           211212,
           855,
           2540,
           0,
           195121,
           746
          ],
          [
           105057,
           277,
           1847,
           8,
           86497,
           119
          ],
          [
           919,
           0,
           29,
           0,
           671,
           0
          ],
          [
           188024,
           1019,
           1067,
           5,
           176019,
           971
          ],
          [
           86142,
           51,
           1498,
           0,
           83061,
           55
          ],
          [
           45,
           0,
           0,
           0,
           42,
           0
          ],
          [
           84258,
           813,
           1593,
           6,
           73285,
           823
          ],
          [
           366319,
           3469,
           4560,
           52,
           281194,
           3453
          ],
          [
           2009,
           7,
           85,
           0,
           1884,
           1
          ],
          [
           131833,
           571,
           2156,
           5,
           118791,
           800
          ],
          [
           2558,
           5,
           54,
           0,
           2484,
           0
          ],
          [
           196047,
           0,
           3209,
           0,
           181809,
           0
          ],
          [
           54871,
           193,
           634,
           2,
           51290,
           226
          ],
          [
           19831,
           0,
           297,
           0,
           19296,
           0
          ],
          [
           293698,
           1924,
           1100,
           12,
           263761,
           3752
          ],
          [
           19346,
           184,
           60,
           0,
           16838,
           192
          ],
          [
           8349,
           17,
           349,
           1,
           6352,
           6
          ],
          [
           21724,
           192,
           311,
           3,
           18905,
           185
          ],
          [
           6687,
           0,
           45,
           0,
           98,
           0
          ],
          [
           17179,
           21,
           439,
           0,
           16524,
           27
          ],
          [
           610,
           0,
           10,
           0,
           571,
           0
          ],
          [
           16861,
           223,
           102,
           4,
           2964,
           0
          ],
          [
           2069370,
           8462,
           183692,
           877,
           1620008,
           5394
          ],
          [
           181886,
           1736,
           3871,
           25,
           164321,
           425
          ],
          [
           1932,
           16,
           23,
           0,
           1690,
           7
          ],
          [
           2831,
           30,
           2,
           0,
           2150,
           53
          ],
          [
           74183,
           571,
           987,
           11,
           64737,
           497
          ],
          [
           20,
           0,
           1,
           0,
           13,
           0
          ],
          [
           482514,
           386,
           8598,
           6,
           467541,
           726
          ],
          [
           57597,
           677,
           613,
           5,
           38676,
           806
          ],
          [
           9,
           0,
           2,
           0,
           7,
           0
          ],
          [
           141841,
           25,
           3198,
           1,
           131417,
           12
          ],
          [
           38206,
           230,
           416,
           3,
           35788,
           38
          ],
          [
           273872,
           112,
           2685,
           1,
           270223,
           84
          ],
          [
           1073971,
           5011,
           15438,
           32,
           250,
           0
          ],
          [
           57,
           2,
           0,
           0,
           55,
           0
          ],
          [
           2371,
           3,
           26,
           0,
           2278,
           1
          ],
          [
           6445,
           0,
           173,
           0,
           4225,
           0
          ],
          [
           4740,
           0,
           172,
           0,
           4250,
           0
          ],
          [
           154476,
           634,
           1891,
           6,
           131699,
           881
          ],
          [
           101214,
           582,
           3111,
           13,
           90685,
           374
          ],
          [
           70040,
           551,
           620,
           0,
           63783,
           0
          ],
          [
           140588,
           288,
           1562,
           4,
           131684,
           299
          ],
          [
           577482,
           1541,
           12804,
           32,
           542393,
           2505
          ],
          [
           179293,
           1525,
           2008,
           9,
           164557,
           762
          ],
          [
           339383,
           682,
           5810,
           21,
           324156,
           873
          ],
          [
           1228,
           89,
           12,
           1,
           846,
           0
          ],
          [
           156189,
           1285,
           3135,
           16,
           130531,
           900
          ],
          [
           1308722,
           7923,
           45903,
           220,
           1210749,
           6699
          ],
          [
           568680,
           2260,
           12201,
           72,
           524042,
           721
          ],
          [
           1673252,
           12143,
           43094,
           286,
           1397342,
           5361
          ],
          [
           801746,
           1160,
           16185,
           49,
           711713,
           2659
          ],
          [
           162268,
           465,
           257,
           0,
           152327,
           540
          ],
          [
           8820,
           0,
           128,
           0,
           7019,
           0
          ],
          [
           12416,
           0,
           52,
           0,
           11270,
           0
          ],
          [
           791971,
           3923,
           20167,
           81,
           733616,
           2567
          ],
          [
           4212100,
           11198,
           84876,
           446,
           3767664,
           16102
          ],
          [
           18553,
           110,
           258,
           4,
           17279,
           15
          ],
          [
           573,
           0,
           1,
           0,
           462,
           0
          ],
          [
           41,
           0,
           0,
           0,
           40,
           1
          ],
          [
           3149,
           0,
           34,
           0,
           2879,
           0
          ],
          [
           1544,
           0,
           12,
           0,
           1399,
           0
          ],
          [
           1519,
           0,
           6,
           0,
           848,
           0
          ],
          [
           3621,
           36,
           73,
           0,
           3201,
           6
          ],
          [
           376377,
           356,
           6480,
           5,
           367323,
           308
          ],
          [
           33741,
           288,
           852,
           12,
           28112,
           219
          ],
          [
           449901,
           3588,
           4398,
           15,
           400347,
           0
          ],
          [
           2562,
           0,
           11,
           0,
           2048,
           0
          ],
          [
           59900,
           10,
           29,
           0,
           59785,
           24
          ],
          [
           2051,
           1,
           27,
           0,
           1988,
           5
          ],
          [
           300775,
           2438,
           6859,
           84,
           255300,
           0
          ],
          [
           187762,
           757,
           3809,
           7,
           171905,
           0
          ],
          [
           6687,
           138,
           223,
           5,
           3784,
           1
          ],
          [
           1509124,
           1676,
           49667,
           144,
           1424401,
           1779
          ],
          [
           88922,
           406,
           1585,
           4,
           79880,
           393
          ],
          [
           3180212,
           9568,
           68813,
           345,
           2617239,
           27243
          ],
          [
           81933,
           466,
           459,
           2,
           76961,
           447
          ],
          [
           28270,
           60,
           1878,
           2,
           22844,
           21
          ],
          [
           8901,
           9,
           170,
           0,
           8385,
           14
          ],
          [
           652465,
           4995,
           12798,
           5,
           4971,
           0
          ],
          [
           553867,
           1169,
           9954,
           12,
           505666,
           1859
          ],
          [
           15405,
           62,
           1014,
           6,
           9553,
           85
          ],
          [
           951,
           0,
           9,
           0,
           906,
           0
          ],
          [
           509,
           0,
           21,
           0,
           183,
           0
          ],
          [
           25809,
           45,
           83,
           0,
           24952,
           218
          ],
          [
           8496,
           0,
           179,
           0,
           7274,
           0
          ],
          [
           4671,
           31,
           147,
           0,
           4089,
           0
          ],
          [
           110,
           1,
           0,
           0,
           89,
           1
          ],
          [
           6637,
           89,
           82,
           0,
           5489,
           42
          ],
          [
           7697,
           7,
           139,
           0,
           7436,
           5
          ],
          [
           231298,
           855,
           7911,
           42,
           195739,
           3457
          ],
          [
           2674766,
           9572,
           28358,
           73,
           2546503,
           6210
          ],
          [
           2070,
           19,
           14,
           0,
           1819,
           23
          ],
          [
           12,
           0,
           1,
           0,
           10,
           0
          ],
          [
           40300,
           39,
           334,
           0,
           14616,
           0
          ],
          [
           1325841,
           0,
           25596,
           0,
           1159311,
           0
          ],
          [
           381662,
           3025,
           1182,
           18,
           375059,
           4678
          ],
          [
           4154562,
           9985,
           122070,
           323,
           2727466,
           61000
          ],
          [
           55695,
           821,
           595,
           4,
           48496,
           461
          ],
          [
           79804,
           31,
           622,
           0,
           78333,
           43
          ],
          [
           137871,
           426,
           1334,
           3,
           129927,
           440
          ],
          [
           2421,
           9,
           35,
           0,
           1804,
           0
          ],
          [
           495,
           0,
           4,
           0,
           316,
           0
          ],
          [
           77171,
           687,
           1059,
           8,
           70800,
           997
          ],
          [
           35994,
           34,
           1458,
           2,
           32455,
           45
          ],
          [
           3884,
           4,
           79,
           0,
           2612,
           0
          ],
          [
           2106,
           37,
           3,
           0,
           773,
           0
          ],
          [
           429,
           0,
           4,
           0,
           402,
           0
          ],
          [
           31502,
           207,
           1033,
           4,
           18045,
           475
          ],
          [
           54,
           0,
           0,
           0,
           46,
           0
          ],
          [
           10,
           0,
           1,
           0,
           8,
           0
          ],
          [
           24,
           0,
           0,
           0,
           16,
           0
          ],
          [
           7349,
           125,
           87,
           0,
           4107,
           93
          ],
          [
           1719,
           47,
           27,
           0,
           1315,
           27
          ],
          [
           2436,
           0,
           660,
           0,
           1580,
           0
          ],
          [
           13,
           0,
           0,
           0,
           13,
           0
          ],
          [
           1,
           0,
           0,
           0,
           1,
           0
          ],
          [
           13308,
           0,
           90,
           0,
           13218,
           0
          ],
          [
           3552,
           13,
           144,
           0,
           3203,
           13
          ],
          [
           10468,
           1,
           292,
           1,
           3577,
           159
          ],
          [
           18,
           0,
           0,
           0,
           14,
           0
          ],
          [
           9,
           0,
           0,
           0,
           6,
           0
          ],
          [
           4,
           0,
           0,
           0,
           4,
           0
          ],
          [
           1,
           0,
           0,
           0,
           1,
           0
          ],
          [
           3,
           0,
           0,
           0,
           2,
           0
          ],
          [
           1,
           0,
           0,
           0,
           1,
           0
          ]
         ],
         "geo": "geo",
         "hovertemplate": "<b>%{hovertext}</b><br><br>Country=%{location}<br>Total Cases=%{z}<br>New Confirmed Cases=%{customdata[1]}<br>Total Deaths=%{customdata[2]}<br>New Deaths=%{customdata[3]}<br>Total Recovered Cases=%{customdata[4]}<br>Newly Recovered Cases=%{customdata[5]}<extra></extra>",
         "hovertext": [
          "Afghanistan",
          "Albania",
          "Algeria",
          "Andorra",
          "Angola",
          "Anguilla",
          "Antigua and Barbuda",
          "Argentina",
          "Armenia",
          "Aruba",
          "Australia",
          "Austria",
          "Azerbaijan",
          "Bahamas",
          "Bahrain",
          "Bangladesh",
          "Barbados",
          "Belarus",
          "Belgium",
          "Belize",
          "Benin",
          "Bermuda",
          "Bhutan",
          "Bolivia",
          "Bosnia and Herzegovina",
          "Botswana",
          "Brazil",
          "British Virgin Islands",
          "Brunei",
          "Bulgaria",
          "Burkina Faso",
          "Burma",
          "Cabo Verde",
          "Cambodia",
          "Cameroon",
          "Canada",
          "Cape Verde",
          "CAR",
          "Cayman Islands",
          "Central African Republic",
          "Chad",
          "Channel Islands",
          "Chile",
          "China",
          "Colombia",
          "Costa Rica",
          "Cote d'Ivoire",
          "Croatia",
          "Cruise Ship: Diamond Princess",
          "Cuba",
          "Curacao",
          "Cyprus",
          "Czechia",
          "Democratic Republic of the Congo",
          "Denmark",
          "Djibouti",
          "Dominica",
          "Dominican Republic",
          "East Timor",
          "Ecuador",
          "Egypt",
          "El Salvador",
          "Equatorial Guinea",
          "Eritrea",
          "Estonia",
          "Eswatini",
          "Ethiopia",
          "Faeroe Islands",
          "Faroe Islands",
          "Fench Guiana",
          "Fiji",
          "Finland",
          "France",
          "French Guiana",
          "French Polynesia",
          "Gabon",
          "Gambia",
          "Georgia",
          "Germany",
          "Ghana",
          "Gibraltar",
          "Greece",
          "Greenland",
          "Grenada",
          "Guadeloupe",
          "United States",
          "Guatemala",
          "Guernsey",
          "Guinea",
          "Guinea-Bissau",
          "Guyana",
          "Haiti",
          "Holy See",
          "Honduras",
          "Hungary",
          "Iceland",
          "India",
          "Indonesia",
          "Iran",
          "Iraq",
          "Ireland",
          "Isle of Man",
          "Israel",
          "Italy",
          "Jamaica",
          "Japan",
          "Jersey",
          "Jordan",
          "Kazakhstan",
          "Kenya",
          "Kosovo",
          "Kuwait",
          "Kyrgyzstan",
          "Laos",
          "Latvia",
          "Lebanon",
          "Liberia",
          "Libya",
          "Liechtenstein",
          "Lithuania",
          "Luxembourg",
          "Madagascar",
          "Malaysia",
          "Maldives",
          "Mali",
          "Malta",
          "Martinique",
          "Mauritania",
          "Mauritius",
          "Mayotte",
          "Mexico",
          "Moldova",
          "Monaco",
          "Mongolia",
          "Montenegro",
          "Montserrat",
          "Morocco",
          "Mozambique",
          "MS Zaandam",
          "Myanmar",
          "Namibia",
          "Nepal",
          "Netherlands",
          "New Caledonia",
          "New Zealand",
          "Nicaragua",
          "Niger",
          "Nigeria",
          "North Macedonia",
          "Norway",
          "Oman",
          "Pakistan",
          "Palestine",
          "Panama",
          "Papua New Guinea",
          "Paraguay",
          "Peru",
          "Philippines",
          "Poland",
          "Portugal",
          "Qatar",
          "Republic of the Congo",
          "Reunion",
          "Romania",
          "Russia",
          "Rwanda",
          "Saint Barthelemy",
          "Saint Kitts and Nevis",
          "Saint Lucia",
          "Saint Martin",
          "Saint Vincent and the Grenadines",
          "San Marino",
          "Saudi Arabia",
          "Senegal",
          "Serbia",
          "Seychelles",
          "Singapore",
          "Sint Maarten",
          "Slovakia",
          "Slovenia",
          "Somalia",
          "South Africa",
          "South Korea",
          "Spain",
          "Sri Lanka",
          "Sudan",
          "Suriname",
          "Sweden",
          "Switzerland",
          "Syria",
          "Taiwan",
          "Tanzania",
          "Thailand",
          "The Bahamas",
          "The Gambia",
          "Timor-Leste",
          "Togo",
          "Trinidad and Tobago",
          "Tunisia",
          "Turkey",
          "Turks and Caicos",
          "Turks and Caicos Islands",
          "Uganda",
          "Ukraine",
          "United Arab Emirates",
          "United Kingdom",
          "Uruguay",
          "Uzbekistan",
          "Venezuela",
          "Vietnam",
          "West Bank and Gaza",
          "Zambia",
          "Zimbabwe",
          "Sierra Leone",
          "Burundi",
          "Caribbean Netherlands",
          "Malawi",
          "Falkland Islands",
          "Western Sahara",
          "Saint Pierre Miquelon",
          "South Sudan",
          "Sao Tome and Principe",
          "Yemen",
          "Falkland Islands (Malvinas)",
          "Saint Pierre and Miquelon",
          "Tajikistan",
          "Comoros",
          "Lesotho",
          "Solomon Islands",
          "Wallis and Futuna",
          "Marshall Islands",
          "Vanuatu",
          "Samoa",
          "Micronesia"
         ],
         "locationmode": "country names",
         "locations": [
          "Afghanistan",
          "Albania",
          "Algeria",
          "Andorra",
          "Angola",
          "Anguilla",
          "Antigua and Barbuda",
          "Argentina",
          "Armenia",
          "Aruba",
          "Australia",
          "Austria",
          "Azerbaijan",
          "Bahamas",
          "Bahrain",
          "Bangladesh",
          "Barbados",
          "Belarus",
          "Belgium",
          "Belize",
          "Benin",
          "Bermuda",
          "Bhutan",
          "Bolivia",
          "Bosnia and Herzegovina",
          "Botswana",
          "Brazil",
          "British Virgin Islands",
          "Brunei",
          "Bulgaria",
          "Burkina Faso",
          "Burma",
          "Cabo Verde",
          "Cambodia",
          "Cameroon",
          "Canada",
          "Cape Verde",
          "CAR",
          "Cayman Islands",
          "Central African Republic",
          "Chad",
          "Channel Islands",
          "Chile",
          "China",
          "Colombia",
          "Costa Rica",
          "Cote d'Ivoire",
          "Croatia",
          "Cruise Ship: Diamond Princess",
          "Cuba",
          "Curacao",
          "Cyprus",
          "Czechia",
          "Democratic Republic of the Congo",
          "Denmark",
          "Djibouti",
          "Dominica",
          "Dominican Republic",
          "East Timor",
          "Ecuador",
          "Egypt",
          "El Salvador",
          "Equatorial Guinea",
          "Eritrea",
          "Estonia",
          "Eswatini",
          "Ethiopia",
          "Faeroe Islands",
          "Faroe Islands",
          "Fench Guiana",
          "Fiji",
          "Finland",
          "France",
          "French Guiana",
          "French Polynesia",
          "Gabon",
          "Gambia",
          "Georgia",
          "Germany",
          "Ghana",
          "Gibraltar",
          "Greece",
          "Greenland",
          "Grenada",
          "Guadeloupe",
          "United States",
          "Guatemala",
          "Guernsey",
          "Guinea",
          "Guinea-Bissau",
          "Guyana",
          "Haiti",
          "Holy See",
          "Honduras",
          "Hungary",
          "Iceland",
          "India",
          "Indonesia",
          "Iran",
          "Iraq",
          "Ireland",
          "Isle of Man",
          "Israel",
          "Italy",
          "Jamaica",
          "Japan",
          "Jersey",
          "Jordan",
          "Kazakhstan",
          "Kenya",
          "Kosovo",
          "Kuwait",
          "Kyrgyzstan",
          "Laos",
          "Latvia",
          "Lebanon",
          "Liberia",
          "Libya",
          "Liechtenstein",
          "Lithuania",
          "Luxembourg",
          "Madagascar",
          "Malaysia",
          "Maldives",
          "Mali",
          "Malta",
          "Martinique",
          "Mauritania",
          "Mauritius",
          "Mayotte",
          "Mexico",
          "Moldova",
          "Monaco",
          "Mongolia",
          "Montenegro",
          "Montserrat",
          "Morocco",
          "Mozambique",
          "MS Zaandam",
          "Myanmar",
          "Namibia",
          "Nepal",
          "Netherlands",
          "New Caledonia",
          "New Zealand",
          "Nicaragua",
          "Niger",
          "Nigeria",
          "North Macedonia",
          "Norway",
          "Oman",
          "Pakistan",
          "Palestine",
          "Panama",
          "Papua New Guinea",
          "Paraguay",
          "Peru",
          "Philippines",
          "Poland",
          "Portugal",
          "Qatar",
          "Republic of the Congo",
          "Reunion",
          "Romania",
          "Russia",
          "Rwanda",
          "Saint Barthelemy",
          "Saint Kitts and Nevis",
          "Saint Lucia",
          "Saint Martin",
          "Saint Vincent and the Grenadines",
          "San Marino",
          "Saudi Arabia",
          "Senegal",
          "Serbia",
          "Seychelles",
          "Singapore",
          "Sint Maarten",
          "Slovakia",
          "Slovenia",
          "Somalia",
          "South Africa",
          "South Korea",
          "Spain",
          "Sri Lanka",
          "Sudan",
          "Suriname",
          "Sweden",
          "Switzerland",
          "Syria",
          "Taiwan",
          "Tanzania",
          "Thailand",
          "The Bahamas",
          "The Gambia",
          "Timor-Leste",
          "Togo",
          "Trinidad and Tobago",
          "Tunisia",
          "Turkey",
          "Turks and Caicos",
          "Turks and Caicos Islands",
          "Uganda",
          "Ukraine",
          "United Arab Emirates",
          "United Kingdom",
          "Uruguay",
          "Uzbekistan",
          "Venezuela",
          "Vietnam",
          "West Bank and Gaza",
          "Zambia",
          "Zimbabwe",
          "Sierra Leone",
          "Burundi",
          "Caribbean Netherlands",
          "Malawi",
          "Falkland Islands",
          "Western Sahara",
          "Saint Pierre Miquelon",
          "South Sudan",
          "Sao Tome and Principe",
          "Yemen",
          "Falkland Islands (Malvinas)",
          "Saint Pierre and Miquelon",
          "Tajikistan",
          "Comoros",
          "Lesotho",
          "Solomon Islands",
          "Wallis and Futuna",
          "Marshall Islands",
          "Vanuatu",
          "Samoa",
          "Micronesia"
         ],
         "name": "",
         "type": "choropleth",
         "z": [
          55696,
          104313,
          112622,
          10799,
          20695,
          18,
          701,
          2093645,
          171227,
          7804,
          6991,
          452767,
          233770,
          94,
          120495,
          544954,
          2949,
          282898,
          763885,
          12280,
          5434,
          705,
          867,
          246822,
          130510,
          28371,
          10393886,
          114,
          185,
          243946,
          11914,
          181,
          15201,
          741,
          35714,
          863496,
          1,
          1,
          438,
          5004,
          3934,
          4032,
          812344,
          93904,
          2241225,
          203914,
          32295,
          241592,
          712,
          47566,
          4708,
          33909,
          1198168,
          25144,
          209682,
          6060,
          142,
          237629,
          1,
          281169,
          180640,
          59866,
          5852,
          2826,
          61627,
          16946,
          156112,
          658,
          187,
          5,
          57,
          55687,
          3686813,
          16529,
          18379,
          14234,
          23,
          269800,
          2426819,
          81673,
          4235,
          186469,
          30,
          148,
          9746,
          28089251,
          173142,
          1,
          15789,
          3215,
          8485,
          12390,
          27,
          168243,
          414514,
          6049,
          11063491,
          1314634,
          1607081,
          684362,
          217478,
          475,
          767726,
          2868435,
          22267,
          428553,
          2,
          380268,
          211212,
          105057,
          919,
          188024,
          86142,
          45,
          84258,
          366319,
          2009,
          131833,
          2558,
          196047,
          54871,
          19831,
          293698,
          19346,
          8349,
          21724,
          6687,
          17179,
          610,
          16861,
          2069370,
          181886,
          1932,
          2831,
          74183,
          20,
          482514,
          57597,
          9,
          141841,
          38206,
          273872,
          1073971,
          57,
          2371,
          6445,
          4740,
          154476,
          101214,
          70040,
          140588,
          577482,
          179293,
          339383,
          1228,
          156189,
          1308722,
          568680,
          1673252,
          801746,
          162268,
          8820,
          12416,
          791971,
          4212100,
          18553,
          573,
          41,
          3149,
          1544,
          1519,
          3621,
          376377,
          33741,
          449901,
          2562,
          59900,
          2051,
          300775,
          187762,
          6687,
          1509124,
          88922,
          3180212,
          81933,
          28270,
          8901,
          652465,
          553867,
          15405,
          951,
          509,
          25809,
          8496,
          4671,
          110,
          6637,
          7697,
          231298,
          2674766,
          2070,
          12,
          40300,
          1325841,
          381662,
          4154562,
          55695,
          79804,
          137871,
          2421,
          495,
          77171,
          35994,
          3884,
          2106,
          429,
          31502,
          54,
          10,
          24,
          7349,
          1719,
          2436,
          13,
          1,
          13308,
          3552,
          10468,
          18,
          9,
          4,
          1,
          3,
          1
         ]
        }
       ],
       "layout": {
        "coloraxis": {
         "colorbar": {
          "title": {
           "text": "Total Cases"
          }
         },
         "colorscale": [
          [
           0,
           "#0d0887"
          ],
          [
           0.1111111111111111,
           "#46039f"
          ],
          [
           0.2222222222222222,
           "#7201a8"
          ],
          [
           0.3333333333333333,
           "#9c179e"
          ],
          [
           0.4444444444444444,
           "#bd3786"
          ],
          [
           0.5555555555555556,
           "#d8576b"
          ],
          [
           0.6666666666666666,
           "#ed7953"
          ],
          [
           0.7777777777777778,
           "#fb9f3a"
          ],
          [
           0.8888888888888888,
           "#fdca26"
          ],
          [
           1,
           "#f0f921"
          ]
         ]
        },
        "geo": {
         "center": {},
         "domain": {
          "x": [
           0,
           1
          ],
          "y": [
           0,
           1
          ]
         },
         "projection": {
          "type": "equirectangular"
         },
         "showcoastlines": false,
         "showframe": false
        },
        "legend": {
         "tracegroupgap": 0
        },
        "margin": {
         "t": 60
        },
        "template": {
         "data": {
          "bar": [
           {
            "error_x": {
             "color": "#2a3f5f"
            },
            "error_y": {
             "color": "#2a3f5f"
            },
            "marker": {
             "line": {
              "color": "#E5ECF6",
              "width": 0.5
             },
             "pattern": {
              "fillmode": "overlay",
              "size": 10,
              "solidity": 0.2
             }
            },
            "type": "bar"
           }
          ],
          "barpolar": [
           {
            "marker": {
             "line": {
              "color": "#E5ECF6",
              "width": 0.5
             },
             "pattern": {
              "fillmode": "overlay",
              "size": 10,
              "solidity": 0.2
             }
            },
            "type": "barpolar"
           }
          ],
          "carpet": [
           {
            "aaxis": {
             "endlinecolor": "#2a3f5f",
             "gridcolor": "white",
             "linecolor": "white",
             "minorgridcolor": "white",
             "startlinecolor": "#2a3f5f"
            },
            "baxis": {
             "endlinecolor": "#2a3f5f",
             "gridcolor": "white",
             "linecolor": "white",
             "minorgridcolor": "white",
             "startlinecolor": "#2a3f5f"
            },
            "type": "carpet"
           }
          ],
          "choropleth": [
           {
            "colorbar": {
             "outlinewidth": 0,
             "ticks": ""
            },
            "type": "choropleth"
           }
          ],
          "contour": [
           {
            "colorbar": {
             "outlinewidth": 0,
             "ticks": ""
            },
            "colorscale": [
             [
              0,
              "#0d0887"
             ],
             [
              0.1111111111111111,
              "#46039f"
             ],
             [
              0.2222222222222222,
              "#7201a8"
             ],
             [
              0.3333333333333333,
              "#9c179e"
             ],
             [
              0.4444444444444444,
              "#bd3786"
             ],
             [
              0.5555555555555556,
              "#d8576b"
             ],
             [
              0.6666666666666666,
              "#ed7953"
             ],
             [
              0.7777777777777778,
              "#fb9f3a"
             ],
             [
              0.8888888888888888,
              "#fdca26"
             ],
             [
              1,
              "#f0f921"
             ]
            ],
            "type": "contour"
           }
          ],
          "contourcarpet": [
           {
            "colorbar": {
             "outlinewidth": 0,
             "ticks": ""
            },
            "type": "contourcarpet"
           }
          ],
          "heatmap": [
           {
            "colorbar": {
             "outlinewidth": 0,
             "ticks": ""
            },
            "colorscale": [
             [
              0,
              "#0d0887"
             ],
             [
              0.1111111111111111,
              "#46039f"
             ],
             [
              0.2222222222222222,
              "#7201a8"
             ],
             [
              0.3333333333333333,
              "#9c179e"
             ],
             [
              0.4444444444444444,
              "#bd3786"
             ],
             [
              0.5555555555555556,
              "#d8576b"
             ],
             [
              0.6666666666666666,
              "#ed7953"
             ],
             [
              0.7777777777777778,
              "#fb9f3a"
             ],
             [
              0.8888888888888888,
              "#fdca26"
             ],
             [
              1,
              "#f0f921"
             ]
            ],
            "type": "heatmap"
           }
          ],
          "heatmapgl": [
           {
            "colorbar": {
             "outlinewidth": 0,
             "ticks": ""
            },
            "colorscale": [
             [
              0,
              "#0d0887"
             ],
             [
              0.1111111111111111,
              "#46039f"
             ],
             [
              0.2222222222222222,
              "#7201a8"
             ],
             [
              0.3333333333333333,
              "#9c179e"
             ],
             [
              0.4444444444444444,
              "#bd3786"
             ],
             [
              0.5555555555555556,
              "#d8576b"
             ],
             [
              0.6666666666666666,
              "#ed7953"
             ],
             [
              0.7777777777777778,
              "#fb9f3a"
             ],
             [
              0.8888888888888888,
              "#fdca26"
             ],
             [
              1,
              "#f0f921"
             ]
            ],
            "type": "heatmapgl"
           }
          ],
          "histogram": [
           {
            "marker": {
             "pattern": {
              "fillmode": "overlay",
              "size": 10,
              "solidity": 0.2
             }
            },
            "type": "histogram"
           }
          ],
          "histogram2d": [
           {
            "colorbar": {
             "outlinewidth": 0,
             "ticks": ""
            },
            "colorscale": [
             [
              0,
              "#0d0887"
             ],
             [
              0.1111111111111111,
              "#46039f"
             ],
             [
              0.2222222222222222,
              "#7201a8"
             ],
             [
              0.3333333333333333,
              "#9c179e"
             ],
             [
              0.4444444444444444,
              "#bd3786"
             ],
             [
              0.5555555555555556,
              "#d8576b"
             ],
             [
              0.6666666666666666,
              "#ed7953"
             ],
             [
              0.7777777777777778,
              "#fb9f3a"
             ],
             [
              0.8888888888888888,
              "#fdca26"
             ],
             [
              1,
              "#f0f921"
             ]
            ],
            "type": "histogram2d"
           }
          ],
          "histogram2dcontour": [
           {
            "colorbar": {
             "outlinewidth": 0,
             "ticks": ""
            },
            "colorscale": [
             [
              0,
              "#0d0887"
             ],
             [
              0.1111111111111111,
              "#46039f"
             ],
             [
              0.2222222222222222,
              "#7201a8"
             ],
             [
              0.3333333333333333,
              "#9c179e"
             ],
             [
              0.4444444444444444,
              "#bd3786"
             ],
             [
              0.5555555555555556,
              "#d8576b"
             ],
             [
              0.6666666666666666,
              "#ed7953"
             ],
             [
              0.7777777777777778,
              "#fb9f3a"
             ],
             [
              0.8888888888888888,
              "#fdca26"
             ],
             [
              1,
              "#f0f921"
             ]
            ],
            "type": "histogram2dcontour"
           }
          ],
          "mesh3d": [
           {
            "colorbar": {
             "outlinewidth": 0,
             "ticks": ""
            },
            "type": "mesh3d"
           }
          ],
          "parcoords": [
           {
            "line": {
             "colorbar": {
              "outlinewidth": 0,
              "ticks": ""
             }
            },
            "type": "parcoords"
           }
          ],
          "pie": [
           {
            "automargin": true,
            "type": "pie"
           }
          ],
          "scatter": [
           {
            "fillpattern": {
             "fillmode": "overlay",
             "size": 10,
             "solidity": 0.2
            },
            "type": "scatter"
           }
          ],
          "scatter3d": [
           {
            "line": {
             "colorbar": {
              "outlinewidth": 0,
              "ticks": ""
             }
            },
            "marker": {
             "colorbar": {
              "outlinewidth": 0,
              "ticks": ""
             }
            },
            "type": "scatter3d"
           }
          ],
          "scattercarpet": [
           {
            "marker": {
             "colorbar": {
              "outlinewidth": 0,
              "ticks": ""
             }
            },
            "type": "scattercarpet"
           }
          ],
          "scattergeo": [
           {
            "marker": {
             "colorbar": {
              "outlinewidth": 0,
              "ticks": ""
             }
            },
            "type": "scattergeo"
           }
          ],
          "scattergl": [
           {
            "marker": {
             "colorbar": {
              "outlinewidth": 0,
              "ticks": ""
             }
            },
            "type": "scattergl"
           }
          ],
          "scattermapbox": [
           {
            "marker": {
             "colorbar": {
              "outlinewidth": 0,
              "ticks": ""
             }
            },
            "type": "scattermapbox"
           }
          ],
          "scatterpolar": [
           {
            "marker": {
             "colorbar": {
              "outlinewidth": 0,
              "ticks": ""
             }
            },
            "type": "scatterpolar"
           }
          ],
          "scatterpolargl": [
           {
            "marker": {
             "colorbar": {
              "outlinewidth": 0,
              "ticks": ""
             }
            },
            "type": "scatterpolargl"
           }
          ],
          "scatterternary": [
           {
            "marker": {
             "colorbar": {
              "outlinewidth": 0,
              "ticks": ""
             }
            },
            "type": "scatterternary"
           }
          ],
          "surface": [
           {
            "colorbar": {
             "outlinewidth": 0,
             "ticks": ""
            },
            "colorscale": [
             [
              0,
              "#0d0887"
             ],
             [
              0.1111111111111111,
              "#46039f"
             ],
             [
              0.2222222222222222,
              "#7201a8"
             ],
             [
              0.3333333333333333,
              "#9c179e"
             ],
             [
              0.4444444444444444,
              "#bd3786"
             ],
             [
              0.5555555555555556,
              "#d8576b"
             ],
             [
              0.6666666666666666,
              "#ed7953"
             ],
             [
              0.7777777777777778,
              "#fb9f3a"
             ],
             [
              0.8888888888888888,
              "#fdca26"
             ],
             [
              1,
              "#f0f921"
             ]
            ],
            "type": "surface"
           }
          ],
          "table": [
           {
            "cells": {
             "fill": {
              "color": "#EBF0F8"
             },
             "line": {
              "color": "white"
             }
            },
            "header": {
             "fill": {
              "color": "#C8D4E3"
             },
             "line": {
              "color": "white"
             }
            },
            "type": "table"
           }
          ]
         },
         "layout": {
          "annotationdefaults": {
           "arrowcolor": "#2a3f5f",
           "arrowhead": 0,
           "arrowwidth": 1
          },
          "autotypenumbers": "strict",
          "coloraxis": {
           "colorbar": {
            "outlinewidth": 0,
            "ticks": ""
           }
          },
          "colorscale": {
           "diverging": [
            [
             0,
             "#8e0152"
            ],
            [
             0.1,
             "#c51b7d"
            ],
            [
             0.2,
             "#de77ae"
            ],
            [
             0.3,
             "#f1b6da"
            ],
            [
             0.4,
             "#fde0ef"
            ],
            [
             0.5,
             "#f7f7f7"
            ],
            [
             0.6,
             "#e6f5d0"
            ],
            [
             0.7,
             "#b8e186"
            ],
            [
             0.8,
             "#7fbc41"
            ],
            [
             0.9,
             "#4d9221"
            ],
            [
             1,
             "#276419"
            ]
           ],
           "sequential": [
            [
             0,
             "#0d0887"
            ],
            [
             0.1111111111111111,
             "#46039f"
            ],
            [
             0.2222222222222222,
             "#7201a8"
            ],
            [
             0.3333333333333333,
             "#9c179e"
            ],
            [
             0.4444444444444444,
             "#bd3786"
            ],
            [
             0.5555555555555556,
             "#d8576b"
            ],
            [
             0.6666666666666666,
             "#ed7953"
            ],
            [
             0.7777777777777778,
             "#fb9f3a"
            ],
            [
             0.8888888888888888,
             "#fdca26"
            ],
            [
             1,
             "#f0f921"
            ]
           ],
           "sequentialminus": [
            [
             0,
             "#0d0887"
            ],
            [
             0.1111111111111111,
             "#46039f"
            ],
            [
             0.2222222222222222,
             "#7201a8"
            ],
            [
             0.3333333333333333,
             "#9c179e"
            ],
            [
             0.4444444444444444,
             "#bd3786"
            ],
            [
             0.5555555555555556,
             "#d8576b"
            ],
            [
             0.6666666666666666,
             "#ed7953"
            ],
            [
             0.7777777777777778,
             "#fb9f3a"
            ],
            [
             0.8888888888888888,
             "#fdca26"
            ],
            [
             1,
             "#f0f921"
            ]
           ]
          },
          "colorway": [
           "#636efa",
           "#EF553B",
           "#00cc96",
           "#ab63fa",
           "#FFA15A",
           "#19d3f3",
           "#FF6692",
           "#B6E880",
           "#FF97FF",
           "#FECB52"
          ],
          "font": {
           "color": "#2a3f5f"
          },
          "geo": {
           "bgcolor": "white",
           "lakecolor": "white",
           "landcolor": "#E5ECF6",
           "showlakes": true,
           "showland": true,
           "subunitcolor": "white"
          },
          "hoverlabel": {
           "align": "left"
          },
          "hovermode": "closest",
          "mapbox": {
           "style": "light"
          },
          "paper_bgcolor": "white",
          "plot_bgcolor": "#E5ECF6",
          "polar": {
           "angularaxis": {
            "gridcolor": "white",
            "linecolor": "white",
            "ticks": ""
           },
           "bgcolor": "#E5ECF6",
           "radialaxis": {
            "gridcolor": "white",
            "linecolor": "white",
            "ticks": ""
           }
          },
          "scene": {
           "xaxis": {
            "backgroundcolor": "#E5ECF6",
            "gridcolor": "white",
            "gridwidth": 2,
            "linecolor": "white",
            "showbackground": true,
            "ticks": "",
            "zerolinecolor": "white"
           },
           "yaxis": {
            "backgroundcolor": "#E5ECF6",
            "gridcolor": "white",
            "gridwidth": 2,
            "linecolor": "white",
            "showbackground": true,
            "ticks": "",
            "zerolinecolor": "white"
           },
           "zaxis": {
            "backgroundcolor": "#E5ECF6",
            "gridcolor": "white",
            "gridwidth": 2,
            "linecolor": "white",
            "showbackground": true,
            "ticks": "",
            "zerolinecolor": "white"
           }
          },
          "shapedefaults": {
           "line": {
            "color": "#2a3f5f"
           }
          },
          "ternary": {
           "aaxis": {
            "gridcolor": "white",
            "linecolor": "white",
            "ticks": ""
           },
           "baxis": {
            "gridcolor": "white",
            "linecolor": "white",
            "ticks": ""
           },
           "bgcolor": "#E5ECF6",
           "caxis": {
            "gridcolor": "white",
            "linecolor": "white",
            "ticks": ""
           }
          },
          "title": {
           "x": 0.05
          },
          "xaxis": {
           "automargin": true,
           "gridcolor": "white",
           "linecolor": "white",
           "ticks": "",
           "title": {
            "standoff": 15
           },
           "zerolinecolor": "white",
           "zerolinewidth": 2
          },
          "yaxis": {
           "automargin": true,
           "gridcolor": "white",
           "linecolor": "white",
           "ticks": "",
           "title": {
            "standoff": 15
           },
           "zerolinecolor": "white",
           "zerolinewidth": 2
          }
         }
        },
        "title": {
         "text": "COVID-19 Cases Worldwide"
        }
       }
      }
     },
     "metadata": {},
     "output_type": "display_data"
    }
   ],
   "source": [
    "import pandas as pd\n",
    "import plotly.express as px\n",
    "import plotly.graph_objects as go\n",
    "import plotly.io as pio\n",
    "fig = go.Figure()\n",
    "\n",
    "\n",
    "# Replace with the path to your dataset\n",
    "df = pd.read_csv('modified_data.csv')\n",
    "\n",
    "# Rename the columns for better readability\n",
    "df.columns = ['Country', 'Total Confirmed Cases', 'New Confirmed Cases', 'Total Deaths', 'New Deaths', 'Total Recovered Cases', 'Newly Recovered Cases']\n",
    "\n",
    "# Create a figure object\n",
    "fig = px.choropleth(df, \n",
    "                    locations='Country', \n",
    "                    locationmode='country names',  # Ensure proper mapping by country names\n",
    "                    color='Total Confirmed Cases', \n",
    "                    hover_name='Country', \n",
    "                    hover_data=['Total Confirmed Cases', 'New Confirmed Cases', 'Total Deaths', 'New Deaths', 'Total Recovered Cases', 'Newly Recovered Cases'], \n",
    "                    projection='natural earth', \n",
    "                    color_continuous_scale='Plasma',  # Choose a colorful scale\n",
    "                    labels={'Total Confirmed Cases': 'Total Cases'})  # Custom label for color legend\n",
    "\n",
    "# Customize the layout\n",
    "fig.update_layout(\n",
    "    title='COVID-19 Cases Worldwide',\n",
    "    geo=dict(\n",
    "        showframe=False,\n",
    "        showcoastlines=False,\n",
    "        projection_type='equirectangular'\n",
    "    )\n",
    ")\n",
    "\n",
    "# Display the interactive map\n",
    "pio.write_html(fig, 'COVID-19 Cases Worldwide.html')\n",
    "fig.show()"
   ]
  }
 ],
 "metadata": {
  "kernelspec": {
   "display_name": "Python 3",
   "language": "python",
   "name": "python3"
  },
  "language_info": {
   "codemirror_mode": {
    "name": "ipython",
    "version": 3
   },
   "file_extension": ".py",
   "mimetype": "text/x-python",
   "name": "python",
   "nbconvert_exporter": "python",
   "pygments_lexer": "ipython3",
   "version": "3.11.3"
  }
 },
 "nbformat": 4,
 "nbformat_minor": 2
}
